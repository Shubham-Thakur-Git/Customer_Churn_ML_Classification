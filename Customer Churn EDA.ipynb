{
 "cells": [
  {
   "cell_type": "markdown",
   "id": "e5da50a9-b9a8-49ef-89a5-7601eec16d9e",
   "metadata": {},
   "source": [
    "## **Import Required Libraries**"
   ]
  },
  {
   "cell_type": "code",
   "execution_count": 1,
   "id": "7e26f413-4433-4ce8-ac4f-ac818c8de829",
   "metadata": {},
   "outputs": [],
   "source": [
    "import pandas as pd\n",
    "import numpy as np\n",
    "import matplotlib.pyplot as plt\n",
    "import seaborn as sns\n",
    "from sklearn.preprocessing import PowerTransformer\n",
    "from sklearn.preprocessing import StandardScaler\n",
    "from sklearn.impute import KNNImputer\n",
    "from sklearn.linear_model import LinearRegression\n",
    "from statsmodels.stats.outliers_influence import variance_inflation_factor\n",
    "import joblib\n",
    "import warnings"
   ]
  },
  {
   "cell_type": "code",
   "execution_count": 2,
   "id": "4aee01fe-efd5-456a-bae1-a31c6c980386",
   "metadata": {},
   "outputs": [],
   "source": [
    "warnings.filterwarnings('ignore')\n",
    "pd.set_option('display.max_columns',50)\n",
    "pd.set_option('display.float_format','{:.3f}'.format)"
   ]
  },
  {
   "cell_type": "markdown",
   "id": "32b89fcb-8dd7-462a-97e5-740b873523ae",
   "metadata": {},
   "source": [
    "## **Read the Data & Understand it**"
   ]
  },
  {
   "cell_type": "code",
   "execution_count": 3,
   "id": "36a1309f-04a0-483f-9a65-83976de68554",
   "metadata": {},
   "outputs": [],
   "source": [
    "churn_org = pd.read_csv('telecom_churn_data.csv')"
   ]
  },
  {
   "cell_type": "code",
   "execution_count": 4,
   "id": "b1bdfaaa-b835-4b9d-9028-4ffda740db37",
   "metadata": {},
   "outputs": [],
   "source": [
    "# Lets create a copy of this dataframe\n",
    "# will perform all operations on copied version\n",
    "churn_df = churn_org.copy()"
   ]
  },
  {
   "cell_type": "code",
   "execution_count": 5,
   "id": "4a57bf64-00f9-451d-9375-65c2ee02f1ea",
   "metadata": {},
   "outputs": [
    {
     "data": {
      "text/html": [
       "<div>\n",
       "<style scoped>\n",
       "    .dataframe tbody tr th:only-of-type {\n",
       "        vertical-align: middle;\n",
       "    }\n",
       "\n",
       "    .dataframe tbody tr th {\n",
       "        vertical-align: top;\n",
       "    }\n",
       "\n",
       "    .dataframe thead th {\n",
       "        text-align: right;\n",
       "    }\n",
       "</style>\n",
       "<table border=\"1\" class=\"dataframe\">\n",
       "  <thead>\n",
       "    <tr style=\"text-align: right;\">\n",
       "      <th></th>\n",
       "      <th>year</th>\n",
       "      <th>customer_id</th>\n",
       "      <th>phone_no</th>\n",
       "      <th>gender</th>\n",
       "      <th>age</th>\n",
       "      <th>no_of_days_subscribed</th>\n",
       "      <th>multi_screen</th>\n",
       "      <th>mail_subscribed</th>\n",
       "      <th>weekly_mins_watched</th>\n",
       "      <th>minimum_daily_mins</th>\n",
       "      <th>maximum_daily_mins</th>\n",
       "      <th>weekly_max_night_mins</th>\n",
       "      <th>videos_watched</th>\n",
       "      <th>maximum_days_inactive</th>\n",
       "      <th>customer_support_calls</th>\n",
       "      <th>churn</th>\n",
       "    </tr>\n",
       "  </thead>\n",
       "  <tbody>\n",
       "    <tr>\n",
       "      <th>0</th>\n",
       "      <td>2015</td>\n",
       "      <td>100198</td>\n",
       "      <td>409-8743</td>\n",
       "      <td>Female</td>\n",
       "      <td>36</td>\n",
       "      <td>62</td>\n",
       "      <td>no</td>\n",
       "      <td>no</td>\n",
       "      <td>148.350</td>\n",
       "      <td>12.200</td>\n",
       "      <td>16.810</td>\n",
       "      <td>82</td>\n",
       "      <td>1</td>\n",
       "      <td>4.000</td>\n",
       "      <td>1</td>\n",
       "      <td>0.000</td>\n",
       "    </tr>\n",
       "    <tr>\n",
       "      <th>1</th>\n",
       "      <td>2015</td>\n",
       "      <td>100643</td>\n",
       "      <td>340-5930</td>\n",
       "      <td>Female</td>\n",
       "      <td>39</td>\n",
       "      <td>149</td>\n",
       "      <td>no</td>\n",
       "      <td>no</td>\n",
       "      <td>294.450</td>\n",
       "      <td>7.700</td>\n",
       "      <td>33.370</td>\n",
       "      <td>87</td>\n",
       "      <td>3</td>\n",
       "      <td>3.000</td>\n",
       "      <td>2</td>\n",
       "      <td>0.000</td>\n",
       "    </tr>\n",
       "    <tr>\n",
       "      <th>2</th>\n",
       "      <td>2015</td>\n",
       "      <td>100756</td>\n",
       "      <td>372-3750</td>\n",
       "      <td>Female</td>\n",
       "      <td>65</td>\n",
       "      <td>126</td>\n",
       "      <td>no</td>\n",
       "      <td>no</td>\n",
       "      <td>87.300</td>\n",
       "      <td>11.900</td>\n",
       "      <td>9.890</td>\n",
       "      <td>91</td>\n",
       "      <td>1</td>\n",
       "      <td>4.000</td>\n",
       "      <td>5</td>\n",
       "      <td>1.000</td>\n",
       "    </tr>\n",
       "    <tr>\n",
       "      <th>3</th>\n",
       "      <td>2015</td>\n",
       "      <td>101595</td>\n",
       "      <td>331-4902</td>\n",
       "      <td>Female</td>\n",
       "      <td>24</td>\n",
       "      <td>131</td>\n",
       "      <td>no</td>\n",
       "      <td>yes</td>\n",
       "      <td>321.300</td>\n",
       "      <td>9.500</td>\n",
       "      <td>36.410</td>\n",
       "      <td>102</td>\n",
       "      <td>4</td>\n",
       "      <td>3.000</td>\n",
       "      <td>3</td>\n",
       "      <td>0.000</td>\n",
       "    </tr>\n",
       "    <tr>\n",
       "      <th>4</th>\n",
       "      <td>2015</td>\n",
       "      <td>101653</td>\n",
       "      <td>351-8398</td>\n",
       "      <td>Female</td>\n",
       "      <td>40</td>\n",
       "      <td>191</td>\n",
       "      <td>no</td>\n",
       "      <td>no</td>\n",
       "      <td>243.000</td>\n",
       "      <td>10.900</td>\n",
       "      <td>27.540</td>\n",
       "      <td>83</td>\n",
       "      <td>7</td>\n",
       "      <td>3.000</td>\n",
       "      <td>1</td>\n",
       "      <td>0.000</td>\n",
       "    </tr>\n",
       "  </tbody>\n",
       "</table>\n",
       "</div>"
      ],
      "text/plain": [
       "   year  customer_id  phone_no  gender  age  no_of_days_subscribed  \\\n",
       "0  2015       100198  409-8743  Female   36                     62   \n",
       "1  2015       100643  340-5930  Female   39                    149   \n",
       "2  2015       100756  372-3750  Female   65                    126   \n",
       "3  2015       101595  331-4902  Female   24                    131   \n",
       "4  2015       101653  351-8398  Female   40                    191   \n",
       "\n",
       "  multi_screen mail_subscribed  weekly_mins_watched  minimum_daily_mins  \\\n",
       "0           no              no              148.350              12.200   \n",
       "1           no              no              294.450               7.700   \n",
       "2           no              no               87.300              11.900   \n",
       "3           no             yes              321.300               9.500   \n",
       "4           no              no              243.000              10.900   \n",
       "\n",
       "   maximum_daily_mins  weekly_max_night_mins  videos_watched  \\\n",
       "0              16.810                     82               1   \n",
       "1              33.370                     87               3   \n",
       "2               9.890                     91               1   \n",
       "3              36.410                    102               4   \n",
       "4              27.540                     83               7   \n",
       "\n",
       "   maximum_days_inactive  customer_support_calls  churn  \n",
       "0                  4.000                       1  0.000  \n",
       "1                  3.000                       2  0.000  \n",
       "2                  4.000                       5  1.000  \n",
       "3                  3.000                       3  0.000  \n",
       "4                  3.000                       1  0.000  "
      ]
     },
     "execution_count": 5,
     "metadata": {},
     "output_type": "execute_result"
    }
   ],
   "source": [
    "churn_df.head()"
   ]
  },
  {
   "cell_type": "code",
   "execution_count": 6,
   "id": "9d776faf-0088-4d74-9168-fabbe93b3282",
   "metadata": {},
   "outputs": [
    {
     "name": "stdout",
     "output_type": "stream",
     "text": [
      "<class 'pandas.core.frame.DataFrame'>\n",
      "RangeIndex: 2000 entries, 0 to 1999\n",
      "Data columns (total 16 columns):\n",
      " #   Column                  Non-Null Count  Dtype  \n",
      "---  ------                  --------------  -----  \n",
      " 0   year                    2000 non-null   int64  \n",
      " 1   customer_id             2000 non-null   int64  \n",
      " 2   phone_no                2000 non-null   object \n",
      " 3   gender                  1976 non-null   object \n",
      " 4   age                     2000 non-null   int64  \n",
      " 5   no_of_days_subscribed   2000 non-null   int64  \n",
      " 6   multi_screen            2000 non-null   object \n",
      " 7   mail_subscribed         2000 non-null   object \n",
      " 8   weekly_mins_watched     2000 non-null   float64\n",
      " 9   minimum_daily_mins      2000 non-null   float64\n",
      " 10  maximum_daily_mins      2000 non-null   float64\n",
      " 11  weekly_max_night_mins   2000 non-null   int64  \n",
      " 12  videos_watched          2000 non-null   int64  \n",
      " 13  maximum_days_inactive   1972 non-null   float64\n",
      " 14  customer_support_calls  2000 non-null   int64  \n",
      " 15  churn                   1965 non-null   float64\n",
      "dtypes: float64(5), int64(7), object(4)\n",
      "memory usage: 250.1+ KB\n"
     ]
    }
   ],
   "source": [
    "churn_df.info()"
   ]
  },
  {
   "cell_type": "code",
   "execution_count": 7,
   "id": "bc1b1515-a692-4b48-abdf-545648e7afd6",
   "metadata": {},
   "outputs": [
    {
     "data": {
      "text/html": [
       "<div>\n",
       "<style scoped>\n",
       "    .dataframe tbody tr th:only-of-type {\n",
       "        vertical-align: middle;\n",
       "    }\n",
       "\n",
       "    .dataframe tbody tr th {\n",
       "        vertical-align: top;\n",
       "    }\n",
       "\n",
       "    .dataframe thead th {\n",
       "        text-align: right;\n",
       "    }\n",
       "</style>\n",
       "<table border=\"1\" class=\"dataframe\">\n",
       "  <thead>\n",
       "    <tr style=\"text-align: right;\">\n",
       "      <th></th>\n",
       "      <th>year</th>\n",
       "      <th>customer_id</th>\n",
       "      <th>age</th>\n",
       "      <th>no_of_days_subscribed</th>\n",
       "      <th>weekly_mins_watched</th>\n",
       "      <th>minimum_daily_mins</th>\n",
       "      <th>maximum_daily_mins</th>\n",
       "      <th>weekly_max_night_mins</th>\n",
       "      <th>videos_watched</th>\n",
       "      <th>maximum_days_inactive</th>\n",
       "      <th>customer_support_calls</th>\n",
       "      <th>churn</th>\n",
       "    </tr>\n",
       "  </thead>\n",
       "  <tbody>\n",
       "    <tr>\n",
       "      <th>count</th>\n",
       "      <td>2000.000</td>\n",
       "      <td>2000.000</td>\n",
       "      <td>2000.000</td>\n",
       "      <td>2000.000</td>\n",
       "      <td>2000.000</td>\n",
       "      <td>2000.000</td>\n",
       "      <td>2000.000</td>\n",
       "      <td>2000.000</td>\n",
       "      <td>2000.000</td>\n",
       "      <td>1972.000</td>\n",
       "      <td>2000.000</td>\n",
       "      <td>1965.000</td>\n",
       "    </tr>\n",
       "    <tr>\n",
       "      <th>mean</th>\n",
       "      <td>2015.000</td>\n",
       "      <td>554887.157</td>\n",
       "      <td>38.691</td>\n",
       "      <td>99.750</td>\n",
       "      <td>270.178</td>\n",
       "      <td>10.199</td>\n",
       "      <td>30.621</td>\n",
       "      <td>100.415</td>\n",
       "      <td>4.482</td>\n",
       "      <td>3.251</td>\n",
       "      <td>1.547</td>\n",
       "      <td>0.133</td>\n",
       "    </tr>\n",
       "    <tr>\n",
       "      <th>std</th>\n",
       "      <td>0.000</td>\n",
       "      <td>261033.690</td>\n",
       "      <td>10.206</td>\n",
       "      <td>39.755</td>\n",
       "      <td>80.552</td>\n",
       "      <td>2.786</td>\n",
       "      <td>9.129</td>\n",
       "      <td>19.529</td>\n",
       "      <td>2.488</td>\n",
       "      <td>0.809</td>\n",
       "      <td>1.315</td>\n",
       "      <td>0.340</td>\n",
       "    </tr>\n",
       "    <tr>\n",
       "      <th>min</th>\n",
       "      <td>2015.000</td>\n",
       "      <td>100198.000</td>\n",
       "      <td>18.000</td>\n",
       "      <td>1.000</td>\n",
       "      <td>0.000</td>\n",
       "      <td>0.000</td>\n",
       "      <td>0.000</td>\n",
       "      <td>42.000</td>\n",
       "      <td>0.000</td>\n",
       "      <td>0.000</td>\n",
       "      <td>0.000</td>\n",
       "      <td>0.000</td>\n",
       "    </tr>\n",
       "    <tr>\n",
       "      <th>25%</th>\n",
       "      <td>2015.000</td>\n",
       "      <td>328634.750</td>\n",
       "      <td>32.000</td>\n",
       "      <td>73.000</td>\n",
       "      <td>218.213</td>\n",
       "      <td>8.400</td>\n",
       "      <td>24.735</td>\n",
       "      <td>87.000</td>\n",
       "      <td>3.000</td>\n",
       "      <td>3.000</td>\n",
       "      <td>1.000</td>\n",
       "      <td>0.000</td>\n",
       "    </tr>\n",
       "    <tr>\n",
       "      <th>50%</th>\n",
       "      <td>2015.000</td>\n",
       "      <td>567957.500</td>\n",
       "      <td>37.000</td>\n",
       "      <td>99.000</td>\n",
       "      <td>269.925</td>\n",
       "      <td>10.200</td>\n",
       "      <td>30.590</td>\n",
       "      <td>101.000</td>\n",
       "      <td>4.000</td>\n",
       "      <td>3.000</td>\n",
       "      <td>1.000</td>\n",
       "      <td>0.000</td>\n",
       "    </tr>\n",
       "    <tr>\n",
       "      <th>75%</th>\n",
       "      <td>2015.000</td>\n",
       "      <td>773280.250</td>\n",
       "      <td>44.000</td>\n",
       "      <td>127.000</td>\n",
       "      <td>324.675</td>\n",
       "      <td>12.000</td>\n",
       "      <td>36.797</td>\n",
       "      <td>114.000</td>\n",
       "      <td>6.000</td>\n",
       "      <td>4.000</td>\n",
       "      <td>2.000</td>\n",
       "      <td>0.000</td>\n",
       "    </tr>\n",
       "    <tr>\n",
       "      <th>max</th>\n",
       "      <td>2015.000</td>\n",
       "      <td>999961.000</td>\n",
       "      <td>82.000</td>\n",
       "      <td>243.000</td>\n",
       "      <td>526.200</td>\n",
       "      <td>20.000</td>\n",
       "      <td>59.640</td>\n",
       "      <td>175.000</td>\n",
       "      <td>19.000</td>\n",
       "      <td>6.000</td>\n",
       "      <td>9.000</td>\n",
       "      <td>1.000</td>\n",
       "    </tr>\n",
       "  </tbody>\n",
       "</table>\n",
       "</div>"
      ],
      "text/plain": [
       "          year  customer_id      age  no_of_days_subscribed  \\\n",
       "count 2000.000     2000.000 2000.000               2000.000   \n",
       "mean  2015.000   554887.157   38.691                 99.750   \n",
       "std      0.000   261033.690   10.206                 39.755   \n",
       "min   2015.000   100198.000   18.000                  1.000   \n",
       "25%   2015.000   328634.750   32.000                 73.000   \n",
       "50%   2015.000   567957.500   37.000                 99.000   \n",
       "75%   2015.000   773280.250   44.000                127.000   \n",
       "max   2015.000   999961.000   82.000                243.000   \n",
       "\n",
       "       weekly_mins_watched  minimum_daily_mins  maximum_daily_mins  \\\n",
       "count             2000.000            2000.000            2000.000   \n",
       "mean               270.178              10.199              30.621   \n",
       "std                 80.552               2.786               9.129   \n",
       "min                  0.000               0.000               0.000   \n",
       "25%                218.213               8.400              24.735   \n",
       "50%                269.925              10.200              30.590   \n",
       "75%                324.675              12.000              36.797   \n",
       "max                526.200              20.000              59.640   \n",
       "\n",
       "       weekly_max_night_mins  videos_watched  maximum_days_inactive  \\\n",
       "count               2000.000        2000.000               1972.000   \n",
       "mean                 100.415           4.482                  3.251   \n",
       "std                   19.529           2.488                  0.809   \n",
       "min                   42.000           0.000                  0.000   \n",
       "25%                   87.000           3.000                  3.000   \n",
       "50%                  101.000           4.000                  3.000   \n",
       "75%                  114.000           6.000                  4.000   \n",
       "max                  175.000          19.000                  6.000   \n",
       "\n",
       "       customer_support_calls    churn  \n",
       "count                2000.000 1965.000  \n",
       "mean                    1.547    0.133  \n",
       "std                     1.315    0.340  \n",
       "min                     0.000    0.000  \n",
       "25%                     1.000    0.000  \n",
       "50%                     1.000    0.000  \n",
       "75%                     2.000    0.000  \n",
       "max                     9.000    1.000  "
      ]
     },
     "execution_count": 7,
     "metadata": {},
     "output_type": "execute_result"
    }
   ],
   "source": [
    "churn_df.describe()"
   ]
  },
  {
   "cell_type": "code",
   "execution_count": 8,
   "id": "459752f6-dc65-4487-9c9e-551eda6cd40b",
   "metadata": {},
   "outputs": [],
   "source": [
    "num_cols = churn_df.select_dtypes(include = 'float64').columns"
   ]
  },
  {
   "cell_type": "code",
   "execution_count": 9,
   "id": "da2057ed-f4bc-4a4b-bf9f-fd156662c311",
   "metadata": {},
   "outputs": [
    {
     "data": {
      "text/plain": [
       "Index(['weekly_mins_watched', 'minimum_daily_mins', 'maximum_daily_mins',\n",
       "       'maximum_days_inactive', 'churn'],\n",
       "      dtype='object')"
      ]
     },
     "execution_count": 9,
     "metadata": {},
     "output_type": "execute_result"
    }
   ],
   "source": [
    "num_cols"
   ]
  },
  {
   "cell_type": "code",
   "execution_count": 10,
   "id": "4b746646-3126-4664-a007-d0e86c62340d",
   "metadata": {},
   "outputs": [],
   "source": [
    "cat_cols = churn_df.select_dtypes(include = 'object').columns"
   ]
  },
  {
   "cell_type": "code",
   "execution_count": 11,
   "id": "7844e1bb-f91b-4690-828c-9fdaf5d1a02b",
   "metadata": {},
   "outputs": [
    {
     "data": {
      "text/plain": [
       "Index(['phone_no', 'gender', 'multi_screen', 'mail_subscribed'], dtype='object')"
      ]
     },
     "execution_count": 11,
     "metadata": {},
     "output_type": "execute_result"
    }
   ],
   "source": [
    "cat_cols"
   ]
  },
  {
   "cell_type": "code",
   "execution_count": 12,
   "id": "9c640e7a-84ca-4cd5-a136-37b8869c8698",
   "metadata": {},
   "outputs": [],
   "source": [
    "cols_to_find = churn_df.select_dtypes(include = 'int64').columns"
   ]
  },
  {
   "cell_type": "code",
   "execution_count": 13,
   "id": "8c84c7f2-e184-4dd3-9cb2-2247c41ead52",
   "metadata": {},
   "outputs": [
    {
     "data": {
      "text/plain": [
       "Index(['year', 'customer_id', 'age', 'no_of_days_subscribed',\n",
       "       'weekly_max_night_mins', 'videos_watched', 'customer_support_calls'],\n",
       "      dtype='object')"
      ]
     },
     "execution_count": 13,
     "metadata": {},
     "output_type": "execute_result"
    }
   ],
   "source": [
    "cols_to_find"
   ]
  },
  {
   "cell_type": "markdown",
   "id": "997d86b4-67c2-476a-8f3f-19f35d7a0ff5",
   "metadata": {},
   "source": [
    "- First Lets check if there are any **unnecessary columns**"
   ]
  },
  {
   "cell_type": "code",
   "execution_count": 14,
   "id": "afc0508a-bc8f-4ad6-98d9-63de00c77a62",
   "metadata": {},
   "outputs": [
    {
     "data": {
      "text/plain": [
       "array([2015], dtype=int64)"
      ]
     },
     "execution_count": 14,
     "metadata": {},
     "output_type": "execute_result"
    }
   ],
   "source": [
    "churn_df['year'].unique()"
   ]
  },
  {
   "cell_type": "code",
   "execution_count": 15,
   "id": "0ea326ce-bbeb-49eb-920b-a84e12d238ab",
   "metadata": {},
   "outputs": [
    {
     "data": {
      "text/plain": [
       "array([100198, 100643, 100756, ..., 998474, 998934, 999961], dtype=int64)"
      ]
     },
     "execution_count": 15,
     "metadata": {},
     "output_type": "execute_result"
    }
   ],
   "source": [
    "churn_df['customer_id'].unique()"
   ]
  },
  {
   "cell_type": "code",
   "execution_count": 16,
   "id": "bc32b23b-d98a-47ad-b770-3a8d6a40f576",
   "metadata": {},
   "outputs": [
    {
     "data": {
      "text/plain": [
       "1999"
      ]
     },
     "execution_count": 16,
     "metadata": {},
     "output_type": "execute_result"
    }
   ],
   "source": [
    "churn_df['customer_id'].nunique()"
   ]
  },
  {
   "cell_type": "code",
   "execution_count": 17,
   "id": "fb0f225b-ef09-43bc-8da9-be4017dc0d3d",
   "metadata": {},
   "outputs": [
    {
     "data": {
      "text/plain": [
       "array(['409-8743', '340-5930', '372-3750', ..., '353-2080', '359-7788',\n",
       "       '414-1496'], dtype=object)"
      ]
     },
     "execution_count": 17,
     "metadata": {},
     "output_type": "execute_result"
    }
   ],
   "source": [
    "churn_df['phone_no'].unique()"
   ]
  },
  {
   "cell_type": "code",
   "execution_count": 18,
   "id": "3cb3cd7c-8c99-4176-b0e4-dcf9a563a583",
   "metadata": {},
   "outputs": [
    {
     "data": {
      "text/plain": [
       "2000"
      ]
     },
     "execution_count": 18,
     "metadata": {},
     "output_type": "execute_result"
    }
   ],
   "source": [
    "churn_df['phone_no'].nunique()"
   ]
  },
  {
   "cell_type": "markdown",
   "id": "21a55796-51d2-4029-9d0d-207f537d4212",
   "metadata": {},
   "source": [
    "- 'year' has only 1 value, so we can remove it.\n",
    "    - Column with only 1 unique value has no variance/Std, so it will not contribute in model's performance\n",
    "    - We can safely remove this redundant column/feature as it helps in model's computational efficiency without the risk of overfitting\n",
    "- 'customer_id' & 'phone_no' has every values unique, so we can remove it\n",
    "    - A unique identifier such as 'customer_id' doesn't help in predicting the target variable, finding patterns or relationship in the data.\n",
    "    - It is safe to remove this redundant feature as it is unimportant & uneccsarily increasing the complexity.\n",
    "    - By removing this column, we are increasing model's training efficiency & reducing overfitting."
   ]
  },
  {
   "cell_type": "code",
   "execution_count": 19,
   "id": "24cbda13-f4ea-4db2-95c0-278a78c95aa5",
   "metadata": {},
   "outputs": [],
   "source": [
    "churn_df.drop(columns=['year','customer_id','phone_no'],inplace=True)"
   ]
  },
  {
   "cell_type": "code",
   "execution_count": 20,
   "id": "8387a654-02a3-4b14-a797-1dbd264e543c",
   "metadata": {},
   "outputs": [
    {
     "data": {
      "text/html": [
       "<div>\n",
       "<style scoped>\n",
       "    .dataframe tbody tr th:only-of-type {\n",
       "        vertical-align: middle;\n",
       "    }\n",
       "\n",
       "    .dataframe tbody tr th {\n",
       "        vertical-align: top;\n",
       "    }\n",
       "\n",
       "    .dataframe thead th {\n",
       "        text-align: right;\n",
       "    }\n",
       "</style>\n",
       "<table border=\"1\" class=\"dataframe\">\n",
       "  <thead>\n",
       "    <tr style=\"text-align: right;\">\n",
       "      <th></th>\n",
       "      <th>gender</th>\n",
       "      <th>age</th>\n",
       "      <th>no_of_days_subscribed</th>\n",
       "      <th>multi_screen</th>\n",
       "      <th>mail_subscribed</th>\n",
       "      <th>weekly_mins_watched</th>\n",
       "      <th>minimum_daily_mins</th>\n",
       "      <th>maximum_daily_mins</th>\n",
       "      <th>weekly_max_night_mins</th>\n",
       "      <th>videos_watched</th>\n",
       "      <th>maximum_days_inactive</th>\n",
       "      <th>customer_support_calls</th>\n",
       "      <th>churn</th>\n",
       "    </tr>\n",
       "  </thead>\n",
       "  <tbody>\n",
       "    <tr>\n",
       "      <th>0</th>\n",
       "      <td>Female</td>\n",
       "      <td>36</td>\n",
       "      <td>62</td>\n",
       "      <td>no</td>\n",
       "      <td>no</td>\n",
       "      <td>148.350</td>\n",
       "      <td>12.200</td>\n",
       "      <td>16.810</td>\n",
       "      <td>82</td>\n",
       "      <td>1</td>\n",
       "      <td>4.000</td>\n",
       "      <td>1</td>\n",
       "      <td>0.000</td>\n",
       "    </tr>\n",
       "    <tr>\n",
       "      <th>1</th>\n",
       "      <td>Female</td>\n",
       "      <td>39</td>\n",
       "      <td>149</td>\n",
       "      <td>no</td>\n",
       "      <td>no</td>\n",
       "      <td>294.450</td>\n",
       "      <td>7.700</td>\n",
       "      <td>33.370</td>\n",
       "      <td>87</td>\n",
       "      <td>3</td>\n",
       "      <td>3.000</td>\n",
       "      <td>2</td>\n",
       "      <td>0.000</td>\n",
       "    </tr>\n",
       "    <tr>\n",
       "      <th>2</th>\n",
       "      <td>Female</td>\n",
       "      <td>65</td>\n",
       "      <td>126</td>\n",
       "      <td>no</td>\n",
       "      <td>no</td>\n",
       "      <td>87.300</td>\n",
       "      <td>11.900</td>\n",
       "      <td>9.890</td>\n",
       "      <td>91</td>\n",
       "      <td>1</td>\n",
       "      <td>4.000</td>\n",
       "      <td>5</td>\n",
       "      <td>1.000</td>\n",
       "    </tr>\n",
       "    <tr>\n",
       "      <th>3</th>\n",
       "      <td>Female</td>\n",
       "      <td>24</td>\n",
       "      <td>131</td>\n",
       "      <td>no</td>\n",
       "      <td>yes</td>\n",
       "      <td>321.300</td>\n",
       "      <td>9.500</td>\n",
       "      <td>36.410</td>\n",
       "      <td>102</td>\n",
       "      <td>4</td>\n",
       "      <td>3.000</td>\n",
       "      <td>3</td>\n",
       "      <td>0.000</td>\n",
       "    </tr>\n",
       "    <tr>\n",
       "      <th>4</th>\n",
       "      <td>Female</td>\n",
       "      <td>40</td>\n",
       "      <td>191</td>\n",
       "      <td>no</td>\n",
       "      <td>no</td>\n",
       "      <td>243.000</td>\n",
       "      <td>10.900</td>\n",
       "      <td>27.540</td>\n",
       "      <td>83</td>\n",
       "      <td>7</td>\n",
       "      <td>3.000</td>\n",
       "      <td>1</td>\n",
       "      <td>0.000</td>\n",
       "    </tr>\n",
       "  </tbody>\n",
       "</table>\n",
       "</div>"
      ],
      "text/plain": [
       "   gender  age  no_of_days_subscribed multi_screen mail_subscribed  \\\n",
       "0  Female   36                     62           no              no   \n",
       "1  Female   39                    149           no              no   \n",
       "2  Female   65                    126           no              no   \n",
       "3  Female   24                    131           no             yes   \n",
       "4  Female   40                    191           no              no   \n",
       "\n",
       "   weekly_mins_watched  minimum_daily_mins  maximum_daily_mins  \\\n",
       "0              148.350              12.200              16.810   \n",
       "1              294.450               7.700              33.370   \n",
       "2               87.300              11.900               9.890   \n",
       "3              321.300               9.500              36.410   \n",
       "4              243.000              10.900              27.540   \n",
       "\n",
       "   weekly_max_night_mins  videos_watched  maximum_days_inactive  \\\n",
       "0                     82               1                  4.000   \n",
       "1                     87               3                  3.000   \n",
       "2                     91               1                  4.000   \n",
       "3                    102               4                  3.000   \n",
       "4                     83               7                  3.000   \n",
       "\n",
       "   customer_support_calls  churn  \n",
       "0                       1  0.000  \n",
       "1                       2  0.000  \n",
       "2                       5  1.000  \n",
       "3                       3  0.000  \n",
       "4                       1  0.000  "
      ]
     },
     "execution_count": 20,
     "metadata": {},
     "output_type": "execute_result"
    }
   ],
   "source": [
    "churn_df.head()"
   ]
  },
  {
   "cell_type": "markdown",
   "id": "257f13f4-d5f3-4887-8eba-4f7eb2f68c25",
   "metadata": {},
   "source": [
    "## **Data Preprocessing & Data Cleaning**"
   ]
  },
  {
   "cell_type": "code",
   "execution_count": 21,
   "id": "37a54835-8f0c-495f-8cbe-faad6206e813",
   "metadata": {},
   "outputs": [
    {
     "data": {
      "text/plain": [
       "gender                    24\n",
       "age                        0\n",
       "no_of_days_subscribed      0\n",
       "multi_screen               0\n",
       "mail_subscribed            0\n",
       "weekly_mins_watched        0\n",
       "minimum_daily_mins         0\n",
       "maximum_daily_mins         0\n",
       "weekly_max_night_mins      0\n",
       "videos_watched             0\n",
       "maximum_days_inactive     28\n",
       "customer_support_calls     0\n",
       "churn                     35\n",
       "dtype: int64"
      ]
     },
     "execution_count": 21,
     "metadata": {},
     "output_type": "execute_result"
    }
   ],
   "source": [
    "churn_df.isnull().sum()"
   ]
  },
  {
   "cell_type": "markdown",
   "id": "cf9b35e5-4b39-4934-8717-798a8f154fdc",
   "metadata": {},
   "source": [
    "- Lets check 'gender' column"
   ]
  },
  {
   "cell_type": "code",
   "execution_count": 22,
   "id": "e7f6662e-edf7-490b-b8d9-db397e0ccb0d",
   "metadata": {},
   "outputs": [
    {
     "data": {
      "text/plain": [
       "array(['Female', nan, 'Male'], dtype=object)"
      ]
     },
     "execution_count": 22,
     "metadata": {},
     "output_type": "execute_result"
    }
   ],
   "source": [
    "churn_df['gender'].unique()"
   ]
  },
  {
   "cell_type": "code",
   "execution_count": 23,
   "id": "d3a2af2d-6b22-4fee-9cbe-075b457b8f21",
   "metadata": {},
   "outputs": [
    {
     "data": {
      "text/plain": [
       "Male      1053\n",
       "Female     923\n",
       "Name: gender, dtype: int64"
      ]
     },
     "execution_count": 23,
     "metadata": {},
     "output_type": "execute_result"
    }
   ],
   "source": [
    "churn_df['gender'].value_counts()"
   ]
  },
  {
   "cell_type": "code",
   "execution_count": 24,
   "id": "b1339010-c0ac-49dc-a6a5-048346d16422",
   "metadata": {},
   "outputs": [
    {
     "name": "stdout",
     "output_type": "stream",
     "text": [
      "Male\n"
     ]
    }
   ],
   "source": [
    "# Lets replace nan values with mode\n",
    "print(churn_df['gender'].mode().values[0])\n",
    "churn_df['gender'].fillna(churn_df['gender'].mode().values[0],inplace=True)"
   ]
  },
  {
   "cell_type": "code",
   "execution_count": 25,
   "id": "59990934-293a-4fea-bb77-5dc270e3b014",
   "metadata": {},
   "outputs": [
    {
     "data": {
      "text/plain": [
       "array(['Female', 'Male'], dtype=object)"
      ]
     },
     "execution_count": 25,
     "metadata": {},
     "output_type": "execute_result"
    }
   ],
   "source": [
    "churn_df['gender'].unique()"
   ]
  },
  {
   "cell_type": "code",
   "execution_count": 26,
   "id": "85261d05-76e1-401b-a7a2-1c6c82269473",
   "metadata": {},
   "outputs": [
    {
     "data": {
      "text/plain": [
       "Male      1077\n",
       "Female     923\n",
       "Name: gender, dtype: int64"
      ]
     },
     "execution_count": 26,
     "metadata": {},
     "output_type": "execute_result"
    }
   ],
   "source": [
    "churn_df['gender'].value_counts()"
   ]
  },
  {
   "cell_type": "markdown",
   "id": "5901b67f-19ad-41f5-b7ee-a4035b2e6776",
   "metadata": {},
   "source": [
    "- Now, lets do Encoding for 'gender' column"
   ]
  },
  {
   "cell_type": "code",
   "execution_count": 27,
   "id": "55371e4a-7ff8-4155-a662-44689f06d62f",
   "metadata": {},
   "outputs": [],
   "source": [
    "dict1 = {'Female':0,'Male':1}\n",
    "\n",
    "churn_df['gender'] = churn_df['gender'].map(dict1)"
   ]
  },
  {
   "cell_type": "code",
   "execution_count": 28,
   "id": "6cfacbab-d135-4e53-88ef-888625c1182f",
   "metadata": {},
   "outputs": [
    {
     "data": {
      "text/plain": [
       "1    1077\n",
       "0     923\n",
       "Name: gender, dtype: int64"
      ]
     },
     "execution_count": 28,
     "metadata": {},
     "output_type": "execute_result"
    }
   ],
   "source": [
    "churn_df['gender'].value_counts()"
   ]
  },
  {
   "cell_type": "markdown",
   "id": "4f0dbac1-270a-44f2-a0d7-263cf22c5c4d",
   "metadata": {},
   "source": [
    "- Also Encode 'multi_screen' & 'mail_subscribed' as they are cat columns"
   ]
  },
  {
   "cell_type": "code",
   "execution_count": 29,
   "id": "e69dd49c-5311-4333-955b-ad871b1c69ec",
   "metadata": {},
   "outputs": [
    {
     "data": {
      "text/plain": [
       "array(['no', 'yes'], dtype=object)"
      ]
     },
     "execution_count": 29,
     "metadata": {},
     "output_type": "execute_result"
    }
   ],
   "source": [
    "churn_df['multi_screen'].unique()"
   ]
  },
  {
   "cell_type": "code",
   "execution_count": 30,
   "id": "236319f6-2e8e-4f5c-b0c1-4bb76752c5b9",
   "metadata": {},
   "outputs": [
    {
     "data": {
      "text/plain": [
       "no     1802\n",
       "yes     198\n",
       "Name: multi_screen, dtype: int64"
      ]
     },
     "execution_count": 30,
     "metadata": {},
     "output_type": "execute_result"
    }
   ],
   "source": [
    "churn_df['multi_screen'].value_counts()"
   ]
  },
  {
   "cell_type": "code",
   "execution_count": 31,
   "id": "0a0c642e-2b8e-46a4-aaab-bc182280c4ff",
   "metadata": {},
   "outputs": [],
   "source": [
    "dict1 = {'no':0,'yes':1}\n",
    "\n",
    "churn_df['multi_screen'] = churn_df['multi_screen'].map(dict1)"
   ]
  },
  {
   "cell_type": "code",
   "execution_count": 32,
   "id": "47ffad6a-1e84-4daa-89be-84e1142d501c",
   "metadata": {},
   "outputs": [
    {
     "data": {
      "text/plain": [
       "0    1802\n",
       "1     198\n",
       "Name: multi_screen, dtype: int64"
      ]
     },
     "execution_count": 32,
     "metadata": {},
     "output_type": "execute_result"
    }
   ],
   "source": [
    "churn_df['multi_screen'].value_counts()"
   ]
  },
  {
   "cell_type": "code",
   "execution_count": 33,
   "id": "dc21f388-05ef-41a4-9458-12814c82fee9",
   "metadata": {},
   "outputs": [
    {
     "data": {
      "text/plain": [
       "array(['no', 'yes'], dtype=object)"
      ]
     },
     "execution_count": 33,
     "metadata": {},
     "output_type": "execute_result"
    }
   ],
   "source": [
    "churn_df['mail_subscribed'].unique()"
   ]
  },
  {
   "cell_type": "code",
   "execution_count": 34,
   "id": "7142894a-aa4a-4e35-8d12-127fa8232069",
   "metadata": {},
   "outputs": [
    {
     "data": {
      "text/plain": [
       "no     1430\n",
       "yes     570\n",
       "Name: mail_subscribed, dtype: int64"
      ]
     },
     "execution_count": 34,
     "metadata": {},
     "output_type": "execute_result"
    }
   ],
   "source": [
    "churn_df['mail_subscribed'].value_counts()"
   ]
  },
  {
   "cell_type": "code",
   "execution_count": 35,
   "id": "7cada53a-586a-4277-a1f0-83695ecdde18",
   "metadata": {},
   "outputs": [],
   "source": [
    "dict1 = {'no':0,'yes':1}\n",
    "\n",
    "churn_df['mail_subscribed'] = churn_df['mail_subscribed'].map(dict1)"
   ]
  },
  {
   "cell_type": "code",
   "execution_count": 36,
   "id": "2cce89a6-cbfe-486b-bdb0-fec0f693a83b",
   "metadata": {},
   "outputs": [
    {
     "data": {
      "text/plain": [
       "0    1430\n",
       "1     570\n",
       "Name: mail_subscribed, dtype: int64"
      ]
     },
     "execution_count": 36,
     "metadata": {},
     "output_type": "execute_result"
    }
   ],
   "source": [
    "churn_df['mail_subscribed'].value_counts()"
   ]
  },
  {
   "cell_type": "code",
   "execution_count": 37,
   "id": "507894df-6116-41a2-a342-400e48567d24",
   "metadata": {},
   "outputs": [
    {
     "data": {
      "text/html": [
       "<div>\n",
       "<style scoped>\n",
       "    .dataframe tbody tr th:only-of-type {\n",
       "        vertical-align: middle;\n",
       "    }\n",
       "\n",
       "    .dataframe tbody tr th {\n",
       "        vertical-align: top;\n",
       "    }\n",
       "\n",
       "    .dataframe thead th {\n",
       "        text-align: right;\n",
       "    }\n",
       "</style>\n",
       "<table border=\"1\" class=\"dataframe\">\n",
       "  <thead>\n",
       "    <tr style=\"text-align: right;\">\n",
       "      <th></th>\n",
       "      <th>gender</th>\n",
       "      <th>age</th>\n",
       "      <th>no_of_days_subscribed</th>\n",
       "      <th>multi_screen</th>\n",
       "      <th>mail_subscribed</th>\n",
       "      <th>weekly_mins_watched</th>\n",
       "      <th>minimum_daily_mins</th>\n",
       "      <th>maximum_daily_mins</th>\n",
       "      <th>weekly_max_night_mins</th>\n",
       "      <th>videos_watched</th>\n",
       "      <th>maximum_days_inactive</th>\n",
       "      <th>customer_support_calls</th>\n",
       "      <th>churn</th>\n",
       "    </tr>\n",
       "  </thead>\n",
       "  <tbody>\n",
       "    <tr>\n",
       "      <th>0</th>\n",
       "      <td>0</td>\n",
       "      <td>36</td>\n",
       "      <td>62</td>\n",
       "      <td>0</td>\n",
       "      <td>0</td>\n",
       "      <td>148.350</td>\n",
       "      <td>12.200</td>\n",
       "      <td>16.810</td>\n",
       "      <td>82</td>\n",
       "      <td>1</td>\n",
       "      <td>4.000</td>\n",
       "      <td>1</td>\n",
       "      <td>0.000</td>\n",
       "    </tr>\n",
       "    <tr>\n",
       "      <th>1</th>\n",
       "      <td>0</td>\n",
       "      <td>39</td>\n",
       "      <td>149</td>\n",
       "      <td>0</td>\n",
       "      <td>0</td>\n",
       "      <td>294.450</td>\n",
       "      <td>7.700</td>\n",
       "      <td>33.370</td>\n",
       "      <td>87</td>\n",
       "      <td>3</td>\n",
       "      <td>3.000</td>\n",
       "      <td>2</td>\n",
       "      <td>0.000</td>\n",
       "    </tr>\n",
       "    <tr>\n",
       "      <th>2</th>\n",
       "      <td>0</td>\n",
       "      <td>65</td>\n",
       "      <td>126</td>\n",
       "      <td>0</td>\n",
       "      <td>0</td>\n",
       "      <td>87.300</td>\n",
       "      <td>11.900</td>\n",
       "      <td>9.890</td>\n",
       "      <td>91</td>\n",
       "      <td>1</td>\n",
       "      <td>4.000</td>\n",
       "      <td>5</td>\n",
       "      <td>1.000</td>\n",
       "    </tr>\n",
       "    <tr>\n",
       "      <th>3</th>\n",
       "      <td>0</td>\n",
       "      <td>24</td>\n",
       "      <td>131</td>\n",
       "      <td>0</td>\n",
       "      <td>1</td>\n",
       "      <td>321.300</td>\n",
       "      <td>9.500</td>\n",
       "      <td>36.410</td>\n",
       "      <td>102</td>\n",
       "      <td>4</td>\n",
       "      <td>3.000</td>\n",
       "      <td>3</td>\n",
       "      <td>0.000</td>\n",
       "    </tr>\n",
       "    <tr>\n",
       "      <th>4</th>\n",
       "      <td>0</td>\n",
       "      <td>40</td>\n",
       "      <td>191</td>\n",
       "      <td>0</td>\n",
       "      <td>0</td>\n",
       "      <td>243.000</td>\n",
       "      <td>10.900</td>\n",
       "      <td>27.540</td>\n",
       "      <td>83</td>\n",
       "      <td>7</td>\n",
       "      <td>3.000</td>\n",
       "      <td>1</td>\n",
       "      <td>0.000</td>\n",
       "    </tr>\n",
       "  </tbody>\n",
       "</table>\n",
       "</div>"
      ],
      "text/plain": [
       "   gender  age  no_of_days_subscribed  multi_screen  mail_subscribed  \\\n",
       "0       0   36                     62             0                0   \n",
       "1       0   39                    149             0                0   \n",
       "2       0   65                    126             0                0   \n",
       "3       0   24                    131             0                1   \n",
       "4       0   40                    191             0                0   \n",
       "\n",
       "   weekly_mins_watched  minimum_daily_mins  maximum_daily_mins  \\\n",
       "0              148.350              12.200              16.810   \n",
       "1              294.450               7.700              33.370   \n",
       "2               87.300              11.900               9.890   \n",
       "3              321.300               9.500              36.410   \n",
       "4              243.000              10.900              27.540   \n",
       "\n",
       "   weekly_max_night_mins  videos_watched  maximum_days_inactive  \\\n",
       "0                     82               1                  4.000   \n",
       "1                     87               3                  3.000   \n",
       "2                     91               1                  4.000   \n",
       "3                    102               4                  3.000   \n",
       "4                     83               7                  3.000   \n",
       "\n",
       "   customer_support_calls  churn  \n",
       "0                       1  0.000  \n",
       "1                       2  0.000  \n",
       "2                       5  1.000  \n",
       "3                       3  0.000  \n",
       "4                       1  0.000  "
      ]
     },
     "execution_count": 37,
     "metadata": {},
     "output_type": "execute_result"
    }
   ],
   "source": [
    "churn_df.head()"
   ]
  },
  {
   "cell_type": "code",
   "execution_count": null,
   "id": "11a8e45f-0623-4ff5-965f-785f58a689cc",
   "metadata": {},
   "outputs": [],
   "source": []
  },
  {
   "cell_type": "markdown",
   "id": "73dfc565-d8be-4155-8253-7256d04c91b1",
   "metadata": {},
   "source": [
    "- Lets handle missing values of target column 'churn'"
   ]
  },
  {
   "cell_type": "code",
   "execution_count": 38,
   "id": "1b2cff28-1d72-42a7-a2ab-2ecff7bd66ce",
   "metadata": {},
   "outputs": [
    {
     "data": {
      "text/plain": [
       "1.75"
      ]
     },
     "execution_count": 38,
     "metadata": {},
     "output_type": "execute_result"
    }
   ],
   "source": [
    "round((churn_df['churn'].isna().sum()/churn_df.shape[0])*100,2)"
   ]
  },
  {
   "cell_type": "code",
   "execution_count": 39,
   "id": "47836e79-431c-42a4-9a05-10d46c143bbb",
   "metadata": {},
   "outputs": [
    {
     "data": {
      "text/plain": [
       "dtype('float64')"
      ]
     },
     "execution_count": 39,
     "metadata": {},
     "output_type": "execute_result"
    }
   ],
   "source": [
    "churn_df['churn'].dtype"
   ]
  },
  {
   "cell_type": "code",
   "execution_count": 40,
   "id": "a670ea71-c09e-4327-91b6-e2a28b666cf0",
   "metadata": {},
   "outputs": [
    {
     "data": {
      "text/plain": [
       "array([ 0.,  1., nan])"
      ]
     },
     "execution_count": 40,
     "metadata": {},
     "output_type": "execute_result"
    }
   ],
   "source": [
    "churn_df['churn'].unique()"
   ]
  },
  {
   "cell_type": "code",
   "execution_count": 41,
   "id": "a569ff6b-7ac0-4127-b927-fff6cf0f66ee",
   "metadata": {},
   "outputs": [
    {
     "data": {
      "text/plain": [
       "0.000    1703\n",
       "1.000     262\n",
       "Name: churn, dtype: int64"
      ]
     },
     "execution_count": 41,
     "metadata": {},
     "output_type": "execute_result"
    }
   ],
   "source": [
    "churn_df['churn'].value_counts()"
   ]
  },
  {
   "cell_type": "code",
   "execution_count": 42,
   "id": "712a1f6c-0271-47f3-9896-22befa3b126b",
   "metadata": {},
   "outputs": [],
   "source": [
    "from sklearn.impute import KNNImputer"
   ]
  },
  {
   "cell_type": "code",
   "execution_count": 43,
   "id": "b949806b-dc78-4b9e-9e08-d233db0ff044",
   "metadata": {},
   "outputs": [],
   "source": [
    "knn = KNNImputer()"
   ]
  },
  {
   "cell_type": "code",
   "execution_count": 44,
   "id": "e3d925ba-37d1-44d9-8f7b-562dcebb989a",
   "metadata": {},
   "outputs": [],
   "source": [
    "churn_df['churn'] = np.round(knn.fit_transform(churn_df['churn'].values.reshape(-1,1)),0)"
   ]
  },
  {
   "cell_type": "code",
   "execution_count": 45,
   "id": "7282afe4-882b-49eb-a21d-7787fd116355",
   "metadata": {},
   "outputs": [
    {
     "data": {
      "text/plain": [
       "array([0., 1.])"
      ]
     },
     "execution_count": 45,
     "metadata": {},
     "output_type": "execute_result"
    }
   ],
   "source": [
    "churn_df['churn'].unique()"
   ]
  },
  {
   "cell_type": "code",
   "execution_count": 46,
   "id": "5709d350-101f-41bb-bb48-737c57c10761",
   "metadata": {},
   "outputs": [
    {
     "data": {
      "text/plain": [
       "0.000    1738\n",
       "1.000     262\n",
       "Name: churn, dtype: int64"
      ]
     },
     "execution_count": 46,
     "metadata": {},
     "output_type": "execute_result"
    }
   ],
   "source": [
    "churn_df['churn'].value_counts()"
   ]
  },
  {
   "cell_type": "markdown",
   "id": "a89a6aae-8a0d-4326-bfc6-a5383fcb79a0",
   "metadata": {},
   "source": [
    "- Lets convert its datatype from float to int"
   ]
  },
  {
   "cell_type": "code",
   "execution_count": 47,
   "id": "b57d5506-5e71-49b2-a67b-386e0711f779",
   "metadata": {},
   "outputs": [],
   "source": [
    "churn_df['churn'] = churn_df['churn'].astype(int)"
   ]
  },
  {
   "cell_type": "code",
   "execution_count": 48,
   "id": "a977bd59-c434-4766-b4eb-bed9f43bb8a7",
   "metadata": {},
   "outputs": [
    {
     "name": "stdout",
     "output_type": "stream",
     "text": [
      "int32\n"
     ]
    },
    {
     "data": {
      "text/plain": [
       "array([0, 1])"
      ]
     },
     "execution_count": 48,
     "metadata": {},
     "output_type": "execute_result"
    }
   ],
   "source": [
    "print(churn_df['churn'].dtype)\n",
    "churn_df['churn'].unique()"
   ]
  },
  {
   "cell_type": "code",
   "execution_count": null,
   "id": "106fd76a-3314-4f3d-a71e-5a3015620d56",
   "metadata": {},
   "outputs": [],
   "source": []
  },
  {
   "cell_type": "markdown",
   "id": "9bf05c97-149d-4b16-be30-b5fddb68f5c1",
   "metadata": {},
   "source": [
    "- Lets check 'maximum_days_inactive'\n",
    "- As it is count variable & has natural ordinal relation, so considering it as numerical column"
   ]
  },
  {
   "cell_type": "code",
   "execution_count": 49,
   "id": "cd53ced0-bd6a-4e7d-96bb-a9e96999dd0c",
   "metadata": {},
   "outputs": [
    {
     "data": {
      "text/plain": [
       "array([ 4.,  3., nan,  2.,  5.,  1.,  0.,  6.])"
      ]
     },
     "execution_count": 49,
     "metadata": {},
     "output_type": "execute_result"
    }
   ],
   "source": [
    "churn_df['maximum_days_inactive'].unique()"
   ]
  },
  {
   "cell_type": "code",
   "execution_count": 50,
   "id": "c5e966b6-5a36-443d-885e-52d968ae0de6",
   "metadata": {},
   "outputs": [
    {
     "data": {
      "text/plain": [
       "3.2505070993914806"
      ]
     },
     "execution_count": 50,
     "metadata": {},
     "output_type": "execute_result"
    }
   ],
   "source": [
    "churn_df['maximum_days_inactive'].mean()"
   ]
  },
  {
   "cell_type": "code",
   "execution_count": 51,
   "id": "79bbf9c9-5304-421e-9a38-871f96aa84bd",
   "metadata": {},
   "outputs": [
    {
     "data": {
      "text/plain": [
       "3.0"
      ]
     },
     "execution_count": 51,
     "metadata": {},
     "output_type": "execute_result"
    }
   ],
   "source": [
    "churn_df['maximum_days_inactive'].median()"
   ]
  },
  {
   "cell_type": "code",
   "execution_count": 52,
   "id": "74cd50f5-fdba-493f-b3dc-17b5844bc928",
   "metadata": {},
   "outputs": [],
   "source": [
    "from sklearn.linear_model import LinearRegression\n",
    "\n",
    "# Separate rows with and without missing values\n",
    "known = churn_df[churn_df['maximum_days_inactive'].notnull()]\n",
    "unknown = churn_df[churn_df['maximum_days_inactive'].isnull()]\n",
    "\n",
    "# Train regression model\n",
    "lr = LinearRegression()\n",
    "lr.fit(known.drop(columns=['maximum_days_inactive']), known['maximum_days_inactive'])\n",
    "\n",
    "# Predict and fill missing values\n",
    "churn_df.loc[unknown.index, 'maximum_days_inactive'] = np.round(lr.predict(unknown.drop(columns=['maximum_days_inactive'])))\n"
   ]
  },
  {
   "cell_type": "code",
   "execution_count": 53,
   "id": "9ea5cb99-d8f9-4056-b976-35651ed9c8dc",
   "metadata": {},
   "outputs": [
    {
     "data": {
      "text/plain": [
       "array([4., 3., 2., 5., 1., 0., 6.])"
      ]
     },
     "execution_count": 53,
     "metadata": {},
     "output_type": "execute_result"
    }
   ],
   "source": [
    "churn_df['maximum_days_inactive'].unique()"
   ]
  },
  {
   "cell_type": "markdown",
   "id": "63bfd354-52b8-4984-aaad-0af2c4e1c403",
   "metadata": {},
   "source": [
    "- Lets convert its datatype into int "
   ]
  },
  {
   "cell_type": "code",
   "execution_count": 54,
   "id": "5e0f72c2-313c-438e-855a-b0913b4d4b6e",
   "metadata": {},
   "outputs": [],
   "source": [
    "churn_df['maximum_days_inactive'] = churn_df['maximum_days_inactive'].astype(int)"
   ]
  },
  {
   "cell_type": "code",
   "execution_count": 55,
   "id": "e522bc70-a5ec-4bbe-83d6-5ac0f3c657cb",
   "metadata": {},
   "outputs": [
    {
     "data": {
      "text/plain": [
       "array([4, 3, 2, 5, 1, 0, 6])"
      ]
     },
     "execution_count": 55,
     "metadata": {},
     "output_type": "execute_result"
    }
   ],
   "source": [
    "churn_df['maximum_days_inactive'].unique()"
   ]
  },
  {
   "cell_type": "code",
   "execution_count": 56,
   "id": "8c618976-ba26-4ac9-bb50-2700ff25d1ed",
   "metadata": {},
   "outputs": [
    {
     "data": {
      "text/plain": [
       "gender                    0\n",
       "age                       0\n",
       "no_of_days_subscribed     0\n",
       "multi_screen              0\n",
       "mail_subscribed           0\n",
       "weekly_mins_watched       0\n",
       "minimum_daily_mins        0\n",
       "maximum_daily_mins        0\n",
       "weekly_max_night_mins     0\n",
       "videos_watched            0\n",
       "maximum_days_inactive     0\n",
       "customer_support_calls    0\n",
       "churn                     0\n",
       "dtype: int64"
      ]
     },
     "execution_count": 56,
     "metadata": {},
     "output_type": "execute_result"
    }
   ],
   "source": [
    "churn_df.isnull().sum()"
   ]
  },
  {
   "cell_type": "markdown",
   "id": "fa85b29c-f68f-4d9b-896d-680df3a9a339",
   "metadata": {},
   "source": [
    "- Lets check infinity values"
   ]
  },
  {
   "cell_type": "code",
   "execution_count": 57,
   "id": "d9c84494-2c25-4b3b-9ac9-74f5d0b068dc",
   "metadata": {},
   "outputs": [
    {
     "name": "stdout",
     "output_type": "stream",
     "text": [
      "gender                    0\n",
      "age                       0\n",
      "no_of_days_subscribed     0\n",
      "multi_screen              0\n",
      "mail_subscribed           0\n",
      "weekly_mins_watched       0\n",
      "minimum_daily_mins        0\n",
      "maximum_daily_mins        0\n",
      "weekly_max_night_mins     0\n",
      "videos_watched            0\n",
      "maximum_days_inactive     0\n",
      "customer_support_calls    0\n",
      "churn                     0\n",
      "dtype: int64\n"
     ]
    }
   ],
   "source": [
    "# for col in churn_df.columns:\n",
    "#     print(f\"{col}: {np.isinf(churn_df[col]).sum()}\")\n",
    "\n",
    "######  OR  ######\n",
    "\n",
    "print(churn_df.apply(lambda x: np.isinf(x).sum()))"
   ]
  },
  {
   "cell_type": "markdown",
   "id": "af62cb47-5265-4d17-a496-9b0318ee2459",
   "metadata": {},
   "source": [
    "- Lets check duplicate values"
   ]
  },
  {
   "cell_type": "code",
   "execution_count": 58,
   "id": "3e65186a-7c9b-4417-ade1-224b1a0217da",
   "metadata": {},
   "outputs": [
    {
     "data": {
      "text/plain": [
       "0"
      ]
     },
     "execution_count": 58,
     "metadata": {},
     "output_type": "execute_result"
    }
   ],
   "source": [
    "churn_df.duplicated().sum()"
   ]
  },
  {
   "cell_type": "code",
   "execution_count": 59,
   "id": "d3d6fd4e-2d53-43aa-8427-872cb14fa423",
   "metadata": {},
   "outputs": [
    {
     "data": {
      "text/plain": [
       "0"
      ]
     },
     "execution_count": 59,
     "metadata": {},
     "output_type": "execute_result"
    }
   ],
   "source": [
    "churn_df.index.duplicated().sum()"
   ]
  },
  {
   "cell_type": "markdown",
   "id": "9f9fb0bb-4767-46be-bcf2-d6a8ea4c2eb8",
   "metadata": {},
   "source": [
    "- Now lets observe remaining columns"
   ]
  },
  {
   "cell_type": "code",
   "execution_count": 60,
   "id": "71db0b59-9e2b-4c0a-9e3e-f19fc06c8c81",
   "metadata": {},
   "outputs": [
    {
     "name": "stdout",
     "output_type": "stream",
     "text": [
      "<class 'pandas.core.frame.DataFrame'>\n",
      "RangeIndex: 2000 entries, 0 to 1999\n",
      "Data columns (total 13 columns):\n",
      " #   Column                  Non-Null Count  Dtype  \n",
      "---  ------                  --------------  -----  \n",
      " 0   gender                  2000 non-null   int64  \n",
      " 1   age                     2000 non-null   int64  \n",
      " 2   no_of_days_subscribed   2000 non-null   int64  \n",
      " 3   multi_screen            2000 non-null   int64  \n",
      " 4   mail_subscribed         2000 non-null   int64  \n",
      " 5   weekly_mins_watched     2000 non-null   float64\n",
      " 6   minimum_daily_mins      2000 non-null   float64\n",
      " 7   maximum_daily_mins      2000 non-null   float64\n",
      " 8   weekly_max_night_mins   2000 non-null   int64  \n",
      " 9   videos_watched          2000 non-null   int64  \n",
      " 10  maximum_days_inactive   2000 non-null   int32  \n",
      " 11  customer_support_calls  2000 non-null   int64  \n",
      " 12  churn                   2000 non-null   int32  \n",
      "dtypes: float64(3), int32(2), int64(8)\n",
      "memory usage: 187.6 KB\n"
     ]
    }
   ],
   "source": [
    "churn_df.info()"
   ]
  },
  {
   "cell_type": "code",
   "execution_count": 61,
   "id": "caf95d86-c649-4c32-a175-b38bd888e5a7",
   "metadata": {},
   "outputs": [
    {
     "data": {
      "text/html": [
       "<div>\n",
       "<style scoped>\n",
       "    .dataframe tbody tr th:only-of-type {\n",
       "        vertical-align: middle;\n",
       "    }\n",
       "\n",
       "    .dataframe tbody tr th {\n",
       "        vertical-align: top;\n",
       "    }\n",
       "\n",
       "    .dataframe thead th {\n",
       "        text-align: right;\n",
       "    }\n",
       "</style>\n",
       "<table border=\"1\" class=\"dataframe\">\n",
       "  <thead>\n",
       "    <tr style=\"text-align: right;\">\n",
       "      <th></th>\n",
       "      <th>age</th>\n",
       "      <th>no_of_days_subscribed</th>\n",
       "      <th>weekly_max_night_mins</th>\n",
       "      <th>videos_watched</th>\n",
       "      <th>customer_support_calls</th>\n",
       "      <th>maximum_days_inactive</th>\n",
       "      <th>churn</th>\n",
       "    </tr>\n",
       "  </thead>\n",
       "  <tbody>\n",
       "    <tr>\n",
       "      <th>count</th>\n",
       "      <td>2000.000</td>\n",
       "      <td>2000.000</td>\n",
       "      <td>2000.000</td>\n",
       "      <td>2000.000</td>\n",
       "      <td>2000.000</td>\n",
       "      <td>2000.000</td>\n",
       "      <td>2000.000</td>\n",
       "    </tr>\n",
       "    <tr>\n",
       "      <th>mean</th>\n",
       "      <td>38.691</td>\n",
       "      <td>99.750</td>\n",
       "      <td>100.415</td>\n",
       "      <td>4.482</td>\n",
       "      <td>1.547</td>\n",
       "      <td>3.252</td>\n",
       "      <td>0.131</td>\n",
       "    </tr>\n",
       "    <tr>\n",
       "      <th>std</th>\n",
       "      <td>10.206</td>\n",
       "      <td>39.755</td>\n",
       "      <td>19.529</td>\n",
       "      <td>2.488</td>\n",
       "      <td>1.315</td>\n",
       "      <td>0.808</td>\n",
       "      <td>0.337</td>\n",
       "    </tr>\n",
       "    <tr>\n",
       "      <th>min</th>\n",
       "      <td>18.000</td>\n",
       "      <td>1.000</td>\n",
       "      <td>42.000</td>\n",
       "      <td>0.000</td>\n",
       "      <td>0.000</td>\n",
       "      <td>0.000</td>\n",
       "      <td>0.000</td>\n",
       "    </tr>\n",
       "    <tr>\n",
       "      <th>25%</th>\n",
       "      <td>32.000</td>\n",
       "      <td>73.000</td>\n",
       "      <td>87.000</td>\n",
       "      <td>3.000</td>\n",
       "      <td>1.000</td>\n",
       "      <td>3.000</td>\n",
       "      <td>0.000</td>\n",
       "    </tr>\n",
       "    <tr>\n",
       "      <th>50%</th>\n",
       "      <td>37.000</td>\n",
       "      <td>99.000</td>\n",
       "      <td>101.000</td>\n",
       "      <td>4.000</td>\n",
       "      <td>1.000</td>\n",
       "      <td>3.000</td>\n",
       "      <td>0.000</td>\n",
       "    </tr>\n",
       "    <tr>\n",
       "      <th>75%</th>\n",
       "      <td>44.000</td>\n",
       "      <td>127.000</td>\n",
       "      <td>114.000</td>\n",
       "      <td>6.000</td>\n",
       "      <td>2.000</td>\n",
       "      <td>4.000</td>\n",
       "      <td>0.000</td>\n",
       "    </tr>\n",
       "    <tr>\n",
       "      <th>max</th>\n",
       "      <td>82.000</td>\n",
       "      <td>243.000</td>\n",
       "      <td>175.000</td>\n",
       "      <td>19.000</td>\n",
       "      <td>9.000</td>\n",
       "      <td>6.000</td>\n",
       "      <td>1.000</td>\n",
       "    </tr>\n",
       "  </tbody>\n",
       "</table>\n",
       "</div>"
      ],
      "text/plain": [
       "           age  no_of_days_subscribed  weekly_max_night_mins  videos_watched  \\\n",
       "count 2000.000               2000.000               2000.000        2000.000   \n",
       "mean    38.691                 99.750                100.415           4.482   \n",
       "std     10.206                 39.755                 19.529           2.488   \n",
       "min     18.000                  1.000                 42.000           0.000   \n",
       "25%     32.000                 73.000                 87.000           3.000   \n",
       "50%     37.000                 99.000                101.000           4.000   \n",
       "75%     44.000                127.000                114.000           6.000   \n",
       "max     82.000                243.000                175.000          19.000   \n",
       "\n",
       "       customer_support_calls  maximum_days_inactive    churn  \n",
       "count                2000.000               2000.000 2000.000  \n",
       "mean                    1.547                  3.252    0.131  \n",
       "std                     1.315                  0.808    0.337  \n",
       "min                     0.000                  0.000    0.000  \n",
       "25%                     1.000                  3.000    0.000  \n",
       "50%                     1.000                  3.000    0.000  \n",
       "75%                     2.000                  4.000    0.000  \n",
       "max                     9.000                  6.000    1.000  "
      ]
     },
     "execution_count": 61,
     "metadata": {},
     "output_type": "execute_result"
    }
   ],
   "source": [
    "churn_df[['age', 'no_of_days_subscribed', 'weekly_max_night_mins', \n",
    "          'videos_watched', 'customer_support_calls', 'maximum_days_inactive', 'churn']].describe()"
   ]
  },
  {
   "cell_type": "code",
   "execution_count": 62,
   "id": "3f713a92-8f04-470b-900a-48a0c427f2aa",
   "metadata": {},
   "outputs": [
    {
     "data": {
      "text/html": [
       "<div>\n",
       "<style scoped>\n",
       "    .dataframe tbody tr th:only-of-type {\n",
       "        vertical-align: middle;\n",
       "    }\n",
       "\n",
       "    .dataframe tbody tr th {\n",
       "        vertical-align: top;\n",
       "    }\n",
       "\n",
       "    .dataframe thead th {\n",
       "        text-align: right;\n",
       "    }\n",
       "</style>\n",
       "<table border=\"1\" class=\"dataframe\">\n",
       "  <thead>\n",
       "    <tr style=\"text-align: right;\">\n",
       "      <th></th>\n",
       "      <th>weekly_mins_watched</th>\n",
       "      <th>minimum_daily_mins</th>\n",
       "      <th>maximum_daily_mins</th>\n",
       "    </tr>\n",
       "  </thead>\n",
       "  <tbody>\n",
       "    <tr>\n",
       "      <th>count</th>\n",
       "      <td>2000.000</td>\n",
       "      <td>2000.000</td>\n",
       "      <td>2000.000</td>\n",
       "    </tr>\n",
       "    <tr>\n",
       "      <th>mean</th>\n",
       "      <td>270.178</td>\n",
       "      <td>10.199</td>\n",
       "      <td>30.621</td>\n",
       "    </tr>\n",
       "    <tr>\n",
       "      <th>std</th>\n",
       "      <td>80.552</td>\n",
       "      <td>2.786</td>\n",
       "      <td>9.129</td>\n",
       "    </tr>\n",
       "    <tr>\n",
       "      <th>min</th>\n",
       "      <td>0.000</td>\n",
       "      <td>0.000</td>\n",
       "      <td>0.000</td>\n",
       "    </tr>\n",
       "    <tr>\n",
       "      <th>25%</th>\n",
       "      <td>218.213</td>\n",
       "      <td>8.400</td>\n",
       "      <td>24.735</td>\n",
       "    </tr>\n",
       "    <tr>\n",
       "      <th>50%</th>\n",
       "      <td>269.925</td>\n",
       "      <td>10.200</td>\n",
       "      <td>30.590</td>\n",
       "    </tr>\n",
       "    <tr>\n",
       "      <th>75%</th>\n",
       "      <td>324.675</td>\n",
       "      <td>12.000</td>\n",
       "      <td>36.797</td>\n",
       "    </tr>\n",
       "    <tr>\n",
       "      <th>max</th>\n",
       "      <td>526.200</td>\n",
       "      <td>20.000</td>\n",
       "      <td>59.640</td>\n",
       "    </tr>\n",
       "  </tbody>\n",
       "</table>\n",
       "</div>"
      ],
      "text/plain": [
       "       weekly_mins_watched  minimum_daily_mins  maximum_daily_mins\n",
       "count             2000.000            2000.000            2000.000\n",
       "mean               270.178              10.199              30.621\n",
       "std                 80.552               2.786               9.129\n",
       "min                  0.000               0.000               0.000\n",
       "25%                218.213               8.400              24.735\n",
       "50%                269.925              10.200              30.590\n",
       "75%                324.675              12.000              36.797\n",
       "max                526.200              20.000              59.640"
      ]
     },
     "execution_count": 62,
     "metadata": {},
     "output_type": "execute_result"
    }
   ],
   "source": [
    "churn_df[['weekly_mins_watched', 'minimum_daily_mins', 'maximum_daily_mins']].describe()"
   ]
  },
  {
   "cell_type": "code",
   "execution_count": 63,
   "id": "c7324dac-c63a-4dbf-a810-2f690f62d02f",
   "metadata": {},
   "outputs": [
    {
     "data": {
      "text/plain": [
       "array([0, 1], dtype=int64)"
      ]
     },
     "execution_count": 63,
     "metadata": {},
     "output_type": "execute_result"
    }
   ],
   "source": [
    "churn_df['multi_screen'].unique()"
   ]
  },
  {
   "cell_type": "code",
   "execution_count": null,
   "id": "e7dc2f02-9dae-4a07-ac24-5ecb964ed5be",
   "metadata": {},
   "outputs": [],
   "source": []
  },
  {
   "cell_type": "markdown",
   "id": "90d79c85-fa2b-4923-ba1b-f3a65d150bb3",
   "metadata": {},
   "source": [
    "- Lets check correlation"
   ]
  },
  {
   "cell_type": "code",
   "execution_count": 64,
   "id": "8443c18a-c54b-411b-a551-9802e0d1209a",
   "metadata": {},
   "outputs": [
    {
     "data": {
      "text/html": [
       "<div>\n",
       "<style scoped>\n",
       "    .dataframe tbody tr th:only-of-type {\n",
       "        vertical-align: middle;\n",
       "    }\n",
       "\n",
       "    .dataframe tbody tr th {\n",
       "        vertical-align: top;\n",
       "    }\n",
       "\n",
       "    .dataframe thead th {\n",
       "        text-align: right;\n",
       "    }\n",
       "</style>\n",
       "<table border=\"1\" class=\"dataframe\">\n",
       "  <thead>\n",
       "    <tr style=\"text-align: right;\">\n",
       "      <th></th>\n",
       "      <th>gender</th>\n",
       "      <th>age</th>\n",
       "      <th>no_of_days_subscribed</th>\n",
       "      <th>multi_screen</th>\n",
       "      <th>mail_subscribed</th>\n",
       "      <th>weekly_mins_watched</th>\n",
       "      <th>minimum_daily_mins</th>\n",
       "      <th>maximum_daily_mins</th>\n",
       "      <th>weekly_max_night_mins</th>\n",
       "      <th>videos_watched</th>\n",
       "      <th>maximum_days_inactive</th>\n",
       "      <th>customer_support_calls</th>\n",
       "    </tr>\n",
       "  </thead>\n",
       "  <tbody>\n",
       "    <tr>\n",
       "      <th>gender</th>\n",
       "      <td>1.000</td>\n",
       "      <td>-0.009</td>\n",
       "      <td>-0.002</td>\n",
       "      <td>0.011</td>\n",
       "      <td>-0.047</td>\n",
       "      <td>0.003</td>\n",
       "      <td>0.013</td>\n",
       "      <td>0.003</td>\n",
       "      <td>0.034</td>\n",
       "      <td>0.028</td>\n",
       "      <td>0.026</td>\n",
       "      <td>0.008</td>\n",
       "    </tr>\n",
       "    <tr>\n",
       "      <th>age</th>\n",
       "      <td>-0.009</td>\n",
       "      <td>1.000</td>\n",
       "      <td>0.039</td>\n",
       "      <td>0.003</td>\n",
       "      <td>-0.012</td>\n",
       "      <td>0.016</td>\n",
       "      <td>-0.001</td>\n",
       "      <td>0.016</td>\n",
       "      <td>0.017</td>\n",
       "      <td>0.013</td>\n",
       "      <td>0.009</td>\n",
       "      <td>0.001</td>\n",
       "    </tr>\n",
       "    <tr>\n",
       "      <th>no_of_days_subscribed</th>\n",
       "      <td>-0.002</td>\n",
       "      <td>0.039</td>\n",
       "      <td>1.000</td>\n",
       "      <td>0.033</td>\n",
       "      <td>-0.019</td>\n",
       "      <td>0.001</td>\n",
       "      <td>0.016</td>\n",
       "      <td>0.001</td>\n",
       "      <td>-0.002</td>\n",
       "      <td>0.019</td>\n",
       "      <td>0.018</td>\n",
       "      <td>0.013</td>\n",
       "    </tr>\n",
       "    <tr>\n",
       "      <th>multi_screen</th>\n",
       "      <td>0.011</td>\n",
       "      <td>0.003</td>\n",
       "      <td>0.033</td>\n",
       "      <td>1.000</td>\n",
       "      <td>0.021</td>\n",
       "      <td>0.062</td>\n",
       "      <td>0.049</td>\n",
       "      <td>0.062</td>\n",
       "      <td>0.034</td>\n",
       "      <td>0.030</td>\n",
       "      <td>0.031</td>\n",
       "      <td>-0.005</td>\n",
       "    </tr>\n",
       "    <tr>\n",
       "      <th>mail_subscribed</th>\n",
       "      <td>-0.047</td>\n",
       "      <td>-0.012</td>\n",
       "      <td>-0.019</td>\n",
       "      <td>0.021</td>\n",
       "      <td>1.000</td>\n",
       "      <td>0.015</td>\n",
       "      <td>0.036</td>\n",
       "      <td>0.015</td>\n",
       "      <td>0.007</td>\n",
       "      <td>0.002</td>\n",
       "      <td>0.042</td>\n",
       "      <td>0.004</td>\n",
       "    </tr>\n",
       "    <tr>\n",
       "      <th>weekly_mins_watched</th>\n",
       "      <td>0.003</td>\n",
       "      <td>0.016</td>\n",
       "      <td>0.001</td>\n",
       "      <td>0.062</td>\n",
       "      <td>0.015</td>\n",
       "      <td>1.000</td>\n",
       "      <td>-0.017</td>\n",
       "      <td>1.000</td>\n",
       "      <td>0.038</td>\n",
       "      <td>0.019</td>\n",
       "      <td>-0.015</td>\n",
       "      <td>-0.037</td>\n",
       "    </tr>\n",
       "    <tr>\n",
       "      <th>minimum_daily_mins</th>\n",
       "      <td>0.013</td>\n",
       "      <td>-0.001</td>\n",
       "      <td>0.016</td>\n",
       "      <td>0.049</td>\n",
       "      <td>0.036</td>\n",
       "      <td>-0.017</td>\n",
       "      <td>1.000</td>\n",
       "      <td>-0.017</td>\n",
       "      <td>0.008</td>\n",
       "      <td>0.051</td>\n",
       "      <td>0.932</td>\n",
       "      <td>-0.004</td>\n",
       "    </tr>\n",
       "    <tr>\n",
       "      <th>maximum_daily_mins</th>\n",
       "      <td>0.003</td>\n",
       "      <td>0.016</td>\n",
       "      <td>0.001</td>\n",
       "      <td>0.062</td>\n",
       "      <td>0.015</td>\n",
       "      <td>1.000</td>\n",
       "      <td>-0.017</td>\n",
       "      <td>1.000</td>\n",
       "      <td>0.038</td>\n",
       "      <td>0.019</td>\n",
       "      <td>-0.015</td>\n",
       "      <td>-0.037</td>\n",
       "    </tr>\n",
       "    <tr>\n",
       "      <th>weekly_max_night_mins</th>\n",
       "      <td>0.034</td>\n",
       "      <td>0.017</td>\n",
       "      <td>-0.002</td>\n",
       "      <td>0.034</td>\n",
       "      <td>0.007</td>\n",
       "      <td>0.038</td>\n",
       "      <td>0.008</td>\n",
       "      <td>0.038</td>\n",
       "      <td>1.000</td>\n",
       "      <td>-0.000</td>\n",
       "      <td>0.029</td>\n",
       "      <td>-0.004</td>\n",
       "    </tr>\n",
       "    <tr>\n",
       "      <th>videos_watched</th>\n",
       "      <td>0.028</td>\n",
       "      <td>0.013</td>\n",
       "      <td>0.019</td>\n",
       "      <td>0.030</td>\n",
       "      <td>0.002</td>\n",
       "      <td>0.019</td>\n",
       "      <td>0.051</td>\n",
       "      <td>0.019</td>\n",
       "      <td>-0.000</td>\n",
       "      <td>1.000</td>\n",
       "      <td>0.032</td>\n",
       "      <td>-0.001</td>\n",
       "    </tr>\n",
       "    <tr>\n",
       "      <th>maximum_days_inactive</th>\n",
       "      <td>0.026</td>\n",
       "      <td>0.009</td>\n",
       "      <td>0.018</td>\n",
       "      <td>0.031</td>\n",
       "      <td>0.042</td>\n",
       "      <td>-0.015</td>\n",
       "      <td>0.932</td>\n",
       "      <td>-0.015</td>\n",
       "      <td>0.029</td>\n",
       "      <td>0.032</td>\n",
       "      <td>1.000</td>\n",
       "      <td>-0.004</td>\n",
       "    </tr>\n",
       "    <tr>\n",
       "      <th>customer_support_calls</th>\n",
       "      <td>0.008</td>\n",
       "      <td>0.001</td>\n",
       "      <td>0.013</td>\n",
       "      <td>-0.005</td>\n",
       "      <td>0.004</td>\n",
       "      <td>-0.037</td>\n",
       "      <td>-0.004</td>\n",
       "      <td>-0.037</td>\n",
       "      <td>-0.004</td>\n",
       "      <td>-0.001</td>\n",
       "      <td>-0.004</td>\n",
       "      <td>1.000</td>\n",
       "    </tr>\n",
       "  </tbody>\n",
       "</table>\n",
       "</div>"
      ],
      "text/plain": [
       "                        gender    age  no_of_days_subscribed  multi_screen  \\\n",
       "gender                   1.000 -0.009                 -0.002         0.011   \n",
       "age                     -0.009  1.000                  0.039         0.003   \n",
       "no_of_days_subscribed   -0.002  0.039                  1.000         0.033   \n",
       "multi_screen             0.011  0.003                  0.033         1.000   \n",
       "mail_subscribed         -0.047 -0.012                 -0.019         0.021   \n",
       "weekly_mins_watched      0.003  0.016                  0.001         0.062   \n",
       "minimum_daily_mins       0.013 -0.001                  0.016         0.049   \n",
       "maximum_daily_mins       0.003  0.016                  0.001         0.062   \n",
       "weekly_max_night_mins    0.034  0.017                 -0.002         0.034   \n",
       "videos_watched           0.028  0.013                  0.019         0.030   \n",
       "maximum_days_inactive    0.026  0.009                  0.018         0.031   \n",
       "customer_support_calls   0.008  0.001                  0.013        -0.005   \n",
       "\n",
       "                        mail_subscribed  weekly_mins_watched  \\\n",
       "gender                           -0.047                0.003   \n",
       "age                              -0.012                0.016   \n",
       "no_of_days_subscribed            -0.019                0.001   \n",
       "multi_screen                      0.021                0.062   \n",
       "mail_subscribed                   1.000                0.015   \n",
       "weekly_mins_watched               0.015                1.000   \n",
       "minimum_daily_mins                0.036               -0.017   \n",
       "maximum_daily_mins                0.015                1.000   \n",
       "weekly_max_night_mins             0.007                0.038   \n",
       "videos_watched                    0.002                0.019   \n",
       "maximum_days_inactive             0.042               -0.015   \n",
       "customer_support_calls            0.004               -0.037   \n",
       "\n",
       "                        minimum_daily_mins  maximum_daily_mins  \\\n",
       "gender                               0.013               0.003   \n",
       "age                                 -0.001               0.016   \n",
       "no_of_days_subscribed                0.016               0.001   \n",
       "multi_screen                         0.049               0.062   \n",
       "mail_subscribed                      0.036               0.015   \n",
       "weekly_mins_watched                 -0.017               1.000   \n",
       "minimum_daily_mins                   1.000              -0.017   \n",
       "maximum_daily_mins                  -0.017               1.000   \n",
       "weekly_max_night_mins                0.008               0.038   \n",
       "videos_watched                       0.051               0.019   \n",
       "maximum_days_inactive                0.932              -0.015   \n",
       "customer_support_calls              -0.004              -0.037   \n",
       "\n",
       "                        weekly_max_night_mins  videos_watched  \\\n",
       "gender                                  0.034           0.028   \n",
       "age                                     0.017           0.013   \n",
       "no_of_days_subscribed                  -0.002           0.019   \n",
       "multi_screen                            0.034           0.030   \n",
       "mail_subscribed                         0.007           0.002   \n",
       "weekly_mins_watched                     0.038           0.019   \n",
       "minimum_daily_mins                      0.008           0.051   \n",
       "maximum_daily_mins                      0.038           0.019   \n",
       "weekly_max_night_mins                   1.000          -0.000   \n",
       "videos_watched                         -0.000           1.000   \n",
       "maximum_days_inactive                   0.029           0.032   \n",
       "customer_support_calls                 -0.004          -0.001   \n",
       "\n",
       "                        maximum_days_inactive  customer_support_calls  \n",
       "gender                                  0.026                   0.008  \n",
       "age                                     0.009                   0.001  \n",
       "no_of_days_subscribed                   0.018                   0.013  \n",
       "multi_screen                            0.031                  -0.005  \n",
       "mail_subscribed                         0.042                   0.004  \n",
       "weekly_mins_watched                    -0.015                  -0.037  \n",
       "minimum_daily_mins                      0.932                  -0.004  \n",
       "maximum_daily_mins                     -0.015                  -0.037  \n",
       "weekly_max_night_mins                   0.029                  -0.004  \n",
       "videos_watched                          0.032                  -0.001  \n",
       "maximum_days_inactive                   1.000                  -0.004  \n",
       "customer_support_calls                 -0.004                   1.000  "
      ]
     },
     "execution_count": 64,
     "metadata": {},
     "output_type": "execute_result"
    }
   ],
   "source": [
    "churn_df.drop(columns=['churn']).corr()"
   ]
  },
  {
   "cell_type": "code",
   "execution_count": 65,
   "id": "f33e835f-1cb3-42e1-a66d-0b2b7325e0ed",
   "metadata": {},
   "outputs": [
    {
     "data": {
      "image/png": "[encoded data removed]",
      "text/plain": [
       "<Figure size 1000x1000 with 2 Axes>"
      ]
     },
     "metadata": {},
     "output_type": "display_data"
    }
   ],
   "source": [
    "plt.figure(figsize=(10,10))\n",
    "sns.heatmap(churn_df.drop(columns=['churn']).corr(),annot=True,cmap='coolwarm',fmt='.2f')\n",
    "plt.show()"
   ]
  },
  {
   "cell_type": "code",
   "execution_count": 66,
   "id": "d7391e01-0732-4b59-adc2-942337230f23",
   "metadata": {},
   "outputs": [],
   "source": [
    "from statsmodels.stats.outliers_influence import variance_inflation_factor"
   ]
  },
  {
   "cell_type": "code",
   "execution_count": 67,
   "id": "09c9fd9e-bb51-483d-bc4a-8ff9db03eef1",
   "metadata": {},
   "outputs": [],
   "source": [
    "inp_cols = churn_df.drop(columns=['churn']).columns.tolist()\n",
    "vif_df = pd.DataFrame()\n",
    "vif_df['Features'] = inp_cols\n",
    "vif_df['VIF_Value'] = [variance_inflation_factor(churn_df[inp_cols].values,i) for i in range(len(inp_cols))]"
   ]
  },
  {
   "cell_type": "code",
   "execution_count": 68,
   "id": "3ee60ed3-299f-4ed5-9ccd-df8485c1e982",
   "metadata": {},
   "outputs": [
    {
     "data": {
      "text/html": [
       "<div>\n",
       "<style scoped>\n",
       "    .dataframe tbody tr th:only-of-type {\n",
       "        vertical-align: middle;\n",
       "    }\n",
       "\n",
       "    .dataframe tbody tr th {\n",
       "        vertical-align: top;\n",
       "    }\n",
       "\n",
       "    .dataframe thead th {\n",
       "        text-align: right;\n",
       "    }\n",
       "</style>\n",
       "<table border=\"1\" class=\"dataframe\">\n",
       "  <thead>\n",
       "    <tr style=\"text-align: right;\">\n",
       "      <th></th>\n",
       "      <th>Features</th>\n",
       "      <th>VIF_Value</th>\n",
       "    </tr>\n",
       "  </thead>\n",
       "  <tbody>\n",
       "    <tr>\n",
       "      <th>0</th>\n",
       "      <td>gender</td>\n",
       "      <td>2.164</td>\n",
       "    </tr>\n",
       "    <tr>\n",
       "      <th>1</th>\n",
       "      <td>age</td>\n",
       "      <td>12.942</td>\n",
       "    </tr>\n",
       "    <tr>\n",
       "      <th>2</th>\n",
       "      <td>no_of_days_subscribed</td>\n",
       "      <td>6.828</td>\n",
       "    </tr>\n",
       "    <tr>\n",
       "      <th>3</th>\n",
       "      <td>multi_screen</td>\n",
       "      <td>1.121</td>\n",
       "    </tr>\n",
       "    <tr>\n",
       "      <th>4</th>\n",
       "      <td>mail_subscribed</td>\n",
       "      <td>1.401</td>\n",
       "    </tr>\n",
       "    <tr>\n",
       "      <th>5</th>\n",
       "      <td>weekly_mins_watched</td>\n",
       "      <td>126780332.657</td>\n",
       "    </tr>\n",
       "    <tr>\n",
       "      <th>6</th>\n",
       "      <td>minimum_daily_mins</td>\n",
       "      <td>110.703</td>\n",
       "    </tr>\n",
       "    <tr>\n",
       "      <th>7</th>\n",
       "      <td>maximum_daily_mins</td>\n",
       "      <td>126784628.068</td>\n",
       "    </tr>\n",
       "    <tr>\n",
       "      <th>8</th>\n",
       "      <td>weekly_max_night_mins</td>\n",
       "      <td>19.207</td>\n",
       "    </tr>\n",
       "    <tr>\n",
       "      <th>9</th>\n",
       "      <td>videos_watched</td>\n",
       "      <td>4.149</td>\n",
       "    </tr>\n",
       "    <tr>\n",
       "      <th>10</th>\n",
       "      <td>maximum_days_inactive</td>\n",
       "      <td>128.985</td>\n",
       "    </tr>\n",
       "    <tr>\n",
       "      <th>11</th>\n",
       "      <td>customer_support_calls</td>\n",
       "      <td>2.337</td>\n",
       "    </tr>\n",
       "  </tbody>\n",
       "</table>\n",
       "</div>"
      ],
      "text/plain": [
       "                  Features     VIF_Value\n",
       "0                   gender         2.164\n",
       "1                      age        12.942\n",
       "2    no_of_days_subscribed         6.828\n",
       "3             multi_screen         1.121\n",
       "4          mail_subscribed         1.401\n",
       "5      weekly_mins_watched 126780332.657\n",
       "6       minimum_daily_mins       110.703\n",
       "7       maximum_daily_mins 126784628.068\n",
       "8    weekly_max_night_mins        19.207\n",
       "9           videos_watched         4.149\n",
       "10   maximum_days_inactive       128.985\n",
       "11  customer_support_calls         2.337"
      ]
     },
     "execution_count": 68,
     "metadata": {},
     "output_type": "execute_result"
    }
   ],
   "source": [
    "vif_df"
   ]
  },
  {
   "cell_type": "markdown",
   "id": "f30927a6-6dd6-4c21-8a57-5b65d2721e5b",
   "metadata": {},
   "source": [
    "- First lets remove 'maximum_daily_mins' column & again find Vif"
   ]
  },
  {
   "cell_type": "code",
   "execution_count": 69,
   "id": "a9a7d243-0806-45de-8def-7fa0f37123a2",
   "metadata": {},
   "outputs": [],
   "source": [
    "churn_df.drop(columns=['maximum_daily_mins'],inplace=True)"
   ]
  },
  {
   "cell_type": "code",
   "execution_count": 70,
   "id": "db293162-ccdf-4598-9baf-c505c5921016",
   "metadata": {},
   "outputs": [],
   "source": [
    "inp_cols = churn_df.drop(columns=['churn']).columns.tolist()\n",
    "vif_df = pd.DataFrame()\n",
    "vif_df['Features'] = inp_cols\n",
    "vif_df['VIF_Value'] = [variance_inflation_factor(churn_df[inp_cols].values,i) for i in range(len(inp_cols))]"
   ]
  },
  {
   "cell_type": "code",
   "execution_count": 71,
   "id": "aec3928d-aebe-45a3-a174-6dc130ffe84c",
   "metadata": {},
   "outputs": [
    {
     "data": {
      "text/html": [
       "<div>\n",
       "<style scoped>\n",
       "    .dataframe tbody tr th:only-of-type {\n",
       "        vertical-align: middle;\n",
       "    }\n",
       "\n",
       "    .dataframe tbody tr th {\n",
       "        vertical-align: top;\n",
       "    }\n",
       "\n",
       "    .dataframe thead th {\n",
       "        text-align: right;\n",
       "    }\n",
       "</style>\n",
       "<table border=\"1\" class=\"dataframe\">\n",
       "  <thead>\n",
       "    <tr style=\"text-align: right;\">\n",
       "      <th></th>\n",
       "      <th>Features</th>\n",
       "      <th>VIF_Value</th>\n",
       "    </tr>\n",
       "  </thead>\n",
       "  <tbody>\n",
       "    <tr>\n",
       "      <th>0</th>\n",
       "      <td>gender</td>\n",
       "      <td>2.161</td>\n",
       "    </tr>\n",
       "    <tr>\n",
       "      <th>1</th>\n",
       "      <td>age</td>\n",
       "      <td>12.910</td>\n",
       "    </tr>\n",
       "    <tr>\n",
       "      <th>2</th>\n",
       "      <td>no_of_days_subscribed</td>\n",
       "      <td>6.827</td>\n",
       "    </tr>\n",
       "    <tr>\n",
       "      <th>3</th>\n",
       "      <td>multi_screen</td>\n",
       "      <td>1.121</td>\n",
       "    </tr>\n",
       "    <tr>\n",
       "      <th>4</th>\n",
       "      <td>mail_subscribed</td>\n",
       "      <td>1.401</td>\n",
       "    </tr>\n",
       "    <tr>\n",
       "      <th>5</th>\n",
       "      <td>weekly_mins_watched</td>\n",
       "      <td>10.707</td>\n",
       "    </tr>\n",
       "    <tr>\n",
       "      <th>6</th>\n",
       "      <td>minimum_daily_mins</td>\n",
       "      <td>110.684</td>\n",
       "    </tr>\n",
       "    <tr>\n",
       "      <th>7</th>\n",
       "      <td>weekly_max_night_mins</td>\n",
       "      <td>19.201</td>\n",
       "    </tr>\n",
       "    <tr>\n",
       "      <th>8</th>\n",
       "      <td>videos_watched</td>\n",
       "      <td>4.149</td>\n",
       "    </tr>\n",
       "    <tr>\n",
       "      <th>9</th>\n",
       "      <td>maximum_days_inactive</td>\n",
       "      <td>128.973</td>\n",
       "    </tr>\n",
       "    <tr>\n",
       "      <th>10</th>\n",
       "      <td>customer_support_calls</td>\n",
       "      <td>2.337</td>\n",
       "    </tr>\n",
       "  </tbody>\n",
       "</table>\n",
       "</div>"
      ],
      "text/plain": [
       "                  Features  VIF_Value\n",
       "0                   gender      2.161\n",
       "1                      age     12.910\n",
       "2    no_of_days_subscribed      6.827\n",
       "3             multi_screen      1.121\n",
       "4          mail_subscribed      1.401\n",
       "5      weekly_mins_watched     10.707\n",
       "6       minimum_daily_mins    110.684\n",
       "7    weekly_max_night_mins     19.201\n",
       "8           videos_watched      4.149\n",
       "9    maximum_days_inactive    128.973\n",
       "10  customer_support_calls      2.337"
      ]
     },
     "execution_count": 71,
     "metadata": {},
     "output_type": "execute_result"
    }
   ],
   "source": [
    "vif_df"
   ]
  },
  {
   "cell_type": "markdown",
   "id": "96f34f86-a71d-4823-90f5-15eed344b0b4",
   "metadata": {},
   "source": [
    "- Now, lets remove 'maximum_days_inactive' column & again find Vif"
   ]
  },
  {
   "cell_type": "code",
   "execution_count": 72,
   "id": "4a2f3a33-ac26-45a4-b240-0da2cd54b96c",
   "metadata": {},
   "outputs": [],
   "source": [
    "churn_df.drop(columns=['maximum_days_inactive'],inplace=True)"
   ]
  },
  {
   "cell_type": "code",
   "execution_count": 73,
   "id": "2710776d-ba94-4626-98da-e516a9ed5d4e",
   "metadata": {},
   "outputs": [],
   "source": [
    "inp_cols = churn_df.drop(columns=['churn']).columns.tolist()\n",
    "vif_df = pd.DataFrame()\n",
    "vif_df['Features'] = inp_cols\n",
    "vif_df['VIF_Value'] = [variance_inflation_factor(churn_df[inp_cols].values,i) for i in range(len(inp_cols))]"
   ]
  },
  {
   "cell_type": "code",
   "execution_count": 74,
   "id": "a7423ac8-ebc4-43ae-80c2-7f36fd6ba74f",
   "metadata": {},
   "outputs": [
    {
     "data": {
      "text/html": [
       "<div>\n",
       "<style scoped>\n",
       "    .dataframe tbody tr th:only-of-type {\n",
       "        vertical-align: middle;\n",
       "    }\n",
       "\n",
       "    .dataframe tbody tr th {\n",
       "        vertical-align: top;\n",
       "    }\n",
       "\n",
       "    .dataframe thead th {\n",
       "        text-align: right;\n",
       "    }\n",
       "</style>\n",
       "<table border=\"1\" class=\"dataframe\">\n",
       "  <thead>\n",
       "    <tr style=\"text-align: right;\">\n",
       "      <th></th>\n",
       "      <th>Features</th>\n",
       "      <th>VIF_Value</th>\n",
       "    </tr>\n",
       "  </thead>\n",
       "  <tbody>\n",
       "    <tr>\n",
       "      <th>0</th>\n",
       "      <td>gender</td>\n",
       "      <td>2.155</td>\n",
       "    </tr>\n",
       "    <tr>\n",
       "      <th>1</th>\n",
       "      <td>age</td>\n",
       "      <td>12.797</td>\n",
       "    </tr>\n",
       "    <tr>\n",
       "      <th>2</th>\n",
       "      <td>no_of_days_subscribed</td>\n",
       "      <td>6.810</td>\n",
       "    </tr>\n",
       "    <tr>\n",
       "      <th>3</th>\n",
       "      <td>multi_screen</td>\n",
       "      <td>1.119</td>\n",
       "    </tr>\n",
       "    <tr>\n",
       "      <th>4</th>\n",
       "      <td>mail_subscribed</td>\n",
       "      <td>1.400</td>\n",
       "    </tr>\n",
       "    <tr>\n",
       "      <th>5</th>\n",
       "      <td>weekly_mins_watched</td>\n",
       "      <td>10.667</td>\n",
       "    </tr>\n",
       "    <tr>\n",
       "      <th>6</th>\n",
       "      <td>minimum_daily_mins</td>\n",
       "      <td>12.070</td>\n",
       "    </tr>\n",
       "    <tr>\n",
       "      <th>7</th>\n",
       "      <td>weekly_max_night_mins</td>\n",
       "      <td>18.657</td>\n",
       "    </tr>\n",
       "    <tr>\n",
       "      <th>8</th>\n",
       "      <td>videos_watched</td>\n",
       "      <td>4.148</td>\n",
       "    </tr>\n",
       "    <tr>\n",
       "      <th>9</th>\n",
       "      <td>customer_support_calls</td>\n",
       "      <td>2.336</td>\n",
       "    </tr>\n",
       "  </tbody>\n",
       "</table>\n",
       "</div>"
      ],
      "text/plain": [
       "                 Features  VIF_Value\n",
       "0                  gender      2.155\n",
       "1                     age     12.797\n",
       "2   no_of_days_subscribed      6.810\n",
       "3            multi_screen      1.119\n",
       "4         mail_subscribed      1.400\n",
       "5     weekly_mins_watched     10.667\n",
       "6      minimum_daily_mins     12.070\n",
       "7   weekly_max_night_mins     18.657\n",
       "8          videos_watched      4.148\n",
       "9  customer_support_calls      2.336"
      ]
     },
     "execution_count": 74,
     "metadata": {},
     "output_type": "execute_result"
    }
   ],
   "source": [
    "vif_df"
   ]
  },
  {
   "cell_type": "markdown",
   "id": "83827b57-c261-4e02-af08-f65a31ec2339",
   "metadata": {},
   "source": [
    "- Outlier Analysis"
   ]
  },
  {
   "cell_type": "code",
   "execution_count": 75,
   "id": "24b499bb-2464-4277-8db2-b3ba81d5c987",
   "metadata": {},
   "outputs": [
    {
     "data": {
      "text/plain": [
       "<function matplotlib.pyplot.show(close=None, block=None)>"
      ]
     },
     "execution_count": 75,
     "metadata": {},
     "output_type": "execute_result"
    },
    {
     "data": {
      "image/png": "[encoded data removed]",
      "text/plain": [
       "<Figure size 1400x1400 with 7 Axes>"
      ]
     },
     "metadata": {},
     "output_type": "display_data"
    }
   ],
   "source": [
    "i=0\n",
    "plt.figure(figsize=(14,14))\n",
    "for col in ['age', 'no_of_days_subscribed', 'weekly_mins_watched', 'minimum_daily_mins', 'weekly_max_night_mins', 'videos_watched', 'customer_support_calls']:\n",
    "    plt.subplot(3,3,i+1)\n",
    "    sns.boxplot(x=churn_df[col],orient='h')\n",
    "    i=i+1\n",
    "plt.show"
   ]
  },
  {
   "cell_type": "markdown",
   "id": "2be4e352-3562-41be-8f02-983208353862",
   "metadata": {},
   "source": [
    "- These outliers seems valid\n",
    "- We will further analyze these features by checking their distribution & skewness value"
   ]
  },
  {
   "cell_type": "code",
   "execution_count": 76,
   "id": "82027943-e95a-4fc9-b25b-8fa98b35eea0",
   "metadata": {},
   "outputs": [
    {
     "data": {
      "text/html": [
       "<div>\n",
       "<style scoped>\n",
       "    .dataframe tbody tr th:only-of-type {\n",
       "        vertical-align: middle;\n",
       "    }\n",
       "\n",
       "    .dataframe tbody tr th {\n",
       "        vertical-align: top;\n",
       "    }\n",
       "\n",
       "    .dataframe thead th {\n",
       "        text-align: right;\n",
       "    }\n",
       "</style>\n",
       "<table border=\"1\" class=\"dataframe\">\n",
       "  <thead>\n",
       "    <tr style=\"text-align: right;\">\n",
       "      <th></th>\n",
       "      <th>age</th>\n",
       "      <th>no_of_days_subscribed</th>\n",
       "      <th>weekly_mins_watched</th>\n",
       "      <th>minimum_daily_mins</th>\n",
       "      <th>weekly_max_night_mins</th>\n",
       "      <th>videos_watched</th>\n",
       "      <th>customer_support_calls</th>\n",
       "    </tr>\n",
       "  </thead>\n",
       "  <tbody>\n",
       "    <tr>\n",
       "      <th>count</th>\n",
       "      <td>2000.000</td>\n",
       "      <td>2000.000</td>\n",
       "      <td>2000.000</td>\n",
       "      <td>2000.000</td>\n",
       "      <td>2000.000</td>\n",
       "      <td>2000.000</td>\n",
       "      <td>2000.000</td>\n",
       "    </tr>\n",
       "    <tr>\n",
       "      <th>mean</th>\n",
       "      <td>38.691</td>\n",
       "      <td>99.750</td>\n",
       "      <td>270.178</td>\n",
       "      <td>10.199</td>\n",
       "      <td>100.415</td>\n",
       "      <td>4.482</td>\n",
       "      <td>1.547</td>\n",
       "    </tr>\n",
       "    <tr>\n",
       "      <th>std</th>\n",
       "      <td>10.206</td>\n",
       "      <td>39.755</td>\n",
       "      <td>80.552</td>\n",
       "      <td>2.786</td>\n",
       "      <td>19.529</td>\n",
       "      <td>2.488</td>\n",
       "      <td>1.315</td>\n",
       "    </tr>\n",
       "    <tr>\n",
       "      <th>min</th>\n",
       "      <td>18.000</td>\n",
       "      <td>1.000</td>\n",
       "      <td>0.000</td>\n",
       "      <td>0.000</td>\n",
       "      <td>42.000</td>\n",
       "      <td>0.000</td>\n",
       "      <td>0.000</td>\n",
       "    </tr>\n",
       "    <tr>\n",
       "      <th>25%</th>\n",
       "      <td>32.000</td>\n",
       "      <td>73.000</td>\n",
       "      <td>218.213</td>\n",
       "      <td>8.400</td>\n",
       "      <td>87.000</td>\n",
       "      <td>3.000</td>\n",
       "      <td>1.000</td>\n",
       "    </tr>\n",
       "    <tr>\n",
       "      <th>50%</th>\n",
       "      <td>37.000</td>\n",
       "      <td>99.000</td>\n",
       "      <td>269.925</td>\n",
       "      <td>10.200</td>\n",
       "      <td>101.000</td>\n",
       "      <td>4.000</td>\n",
       "      <td>1.000</td>\n",
       "    </tr>\n",
       "    <tr>\n",
       "      <th>75%</th>\n",
       "      <td>44.000</td>\n",
       "      <td>127.000</td>\n",
       "      <td>324.675</td>\n",
       "      <td>12.000</td>\n",
       "      <td>114.000</td>\n",
       "      <td>6.000</td>\n",
       "      <td>2.000</td>\n",
       "    </tr>\n",
       "    <tr>\n",
       "      <th>max</th>\n",
       "      <td>82.000</td>\n",
       "      <td>243.000</td>\n",
       "      <td>526.200</td>\n",
       "      <td>20.000</td>\n",
       "      <td>175.000</td>\n",
       "      <td>19.000</td>\n",
       "      <td>9.000</td>\n",
       "    </tr>\n",
       "  </tbody>\n",
       "</table>\n",
       "</div>"
      ],
      "text/plain": [
       "           age  no_of_days_subscribed  weekly_mins_watched  \\\n",
       "count 2000.000               2000.000             2000.000   \n",
       "mean    38.691                 99.750              270.178   \n",
       "std     10.206                 39.755               80.552   \n",
       "min     18.000                  1.000                0.000   \n",
       "25%     32.000                 73.000              218.213   \n",
       "50%     37.000                 99.000              269.925   \n",
       "75%     44.000                127.000              324.675   \n",
       "max     82.000                243.000              526.200   \n",
       "\n",
       "       minimum_daily_mins  weekly_max_night_mins  videos_watched  \\\n",
       "count            2000.000               2000.000        2000.000   \n",
       "mean               10.199                100.415           4.482   \n",
       "std                 2.786                 19.529           2.488   \n",
       "min                 0.000                 42.000           0.000   \n",
       "25%                 8.400                 87.000           3.000   \n",
       "50%                10.200                101.000           4.000   \n",
       "75%                12.000                114.000           6.000   \n",
       "max                20.000                175.000          19.000   \n",
       "\n",
       "       customer_support_calls  \n",
       "count                2000.000  \n",
       "mean                    1.547  \n",
       "std                     1.315  \n",
       "min                     0.000  \n",
       "25%                     1.000  \n",
       "50%                     1.000  \n",
       "75%                     2.000  \n",
       "max                     9.000  "
      ]
     },
     "execution_count": 76,
     "metadata": {},
     "output_type": "execute_result"
    }
   ],
   "source": [
    "churn_df[['age', 'no_of_days_subscribed', 'weekly_mins_watched', 'minimum_daily_mins', 'weekly_max_night_mins', 'videos_watched', 'customer_support_calls']].describe()"
   ]
  },
  {
   "cell_type": "code",
   "execution_count": null,
   "id": "274c0bd3-bb2b-4b03-ab32-e98d3f11444c",
   "metadata": {},
   "outputs": [],
   "source": []
  },
  {
   "cell_type": "markdown",
   "id": "6ef7ad86-8f18-4686-b681-4f42822317be",
   "metadata": {},
   "source": [
    "- Lets analyze count/categorical columns with target column (target column is also categorical here)"
   ]
  },
  {
   "cell_type": "markdown",
   "id": "38b45eff-7bf3-448c-94fc-84ab60fa5db4",
   "metadata": {},
   "source": [
    "- 'gender' vs 'churn'"
   ]
  },
  {
   "cell_type": "code",
   "execution_count": 77,
   "id": "d967e9c4-a081-4872-98e6-792e7fa90146",
   "metadata": {},
   "outputs": [
    {
     "data": {
      "text/html": [
       "<div>\n",
       "<style scoped>\n",
       "    .dataframe tbody tr th:only-of-type {\n",
       "        vertical-align: middle;\n",
       "    }\n",
       "\n",
       "    .dataframe tbody tr th {\n",
       "        vertical-align: top;\n",
       "    }\n",
       "\n",
       "    .dataframe thead th {\n",
       "        text-align: right;\n",
       "    }\n",
       "</style>\n",
       "<table border=\"1\" class=\"dataframe\">\n",
       "  <thead>\n",
       "    <tr style=\"text-align: right;\">\n",
       "      <th>churn</th>\n",
       "      <th>0</th>\n",
       "      <th>1</th>\n",
       "    </tr>\n",
       "    <tr>\n",
       "      <th>gender</th>\n",
       "      <th></th>\n",
       "      <th></th>\n",
       "    </tr>\n",
       "  </thead>\n",
       "  <tbody>\n",
       "    <tr>\n",
       "      <th>0</th>\n",
       "      <td>797</td>\n",
       "      <td>126</td>\n",
       "    </tr>\n",
       "    <tr>\n",
       "      <th>1</th>\n",
       "      <td>941</td>\n",
       "      <td>136</td>\n",
       "    </tr>\n",
       "  </tbody>\n",
       "</table>\n",
       "</div>"
      ],
      "text/plain": [
       "churn     0    1\n",
       "gender          \n",
       "0       797  126\n",
       "1       941  136"
      ]
     },
     "execution_count": 77,
     "metadata": {},
     "output_type": "execute_result"
    }
   ],
   "source": [
    "pd.crosstab(churn_df['gender'],churn_df['churn'])"
   ]
  },
  {
   "cell_type": "code",
   "execution_count": 78,
   "id": "f573d564-dac0-4908-b1f2-0e2cd5abd442",
   "metadata": {},
   "outputs": [
    {
     "data": {
      "text/html": [
       "<div>\n",
       "<style scoped>\n",
       "    .dataframe tbody tr th:only-of-type {\n",
       "        vertical-align: middle;\n",
       "    }\n",
       "\n",
       "    .dataframe tbody tr th {\n",
       "        vertical-align: top;\n",
       "    }\n",
       "\n",
       "    .dataframe thead th {\n",
       "        text-align: right;\n",
       "    }\n",
       "</style>\n",
       "<table border=\"1\" class=\"dataframe\">\n",
       "  <thead>\n",
       "    <tr style=\"text-align: right;\">\n",
       "      <th>churn</th>\n",
       "      <th>0</th>\n",
       "      <th>1</th>\n",
       "    </tr>\n",
       "    <tr>\n",
       "      <th>gender</th>\n",
       "      <th></th>\n",
       "      <th></th>\n",
       "    </tr>\n",
       "  </thead>\n",
       "  <tbody>\n",
       "    <tr>\n",
       "      <th>0</th>\n",
       "      <td>39.850</td>\n",
       "      <td>6.300</td>\n",
       "    </tr>\n",
       "    <tr>\n",
       "      <th>1</th>\n",
       "      <td>47.050</td>\n",
       "      <td>6.800</td>\n",
       "    </tr>\n",
       "  </tbody>\n",
       "</table>\n",
       "</div>"
      ],
      "text/plain": [
       "churn       0     1\n",
       "gender             \n",
       "0      39.850 6.300\n",
       "1      47.050 6.800"
      ]
     },
     "execution_count": 78,
     "metadata": {},
     "output_type": "execute_result"
    }
   ],
   "source": [
    "pd.crosstab(churn_df['gender'],churn_df['churn'],normalize=True)*100"
   ]
  },
  {
   "cell_type": "code",
   "execution_count": 79,
   "id": "16f5b552-db8b-44a8-8892-a957c3ee9e90",
   "metadata": {},
   "outputs": [
    {
     "data": {
      "image/png": "[encoded data removed]",
      "text/plain": [
       "<Figure size 640x480 with 1 Axes>"
      ]
     },
     "metadata": {},
     "output_type": "display_data"
    }
   ],
   "source": [
    "bars = pd.crosstab(churn_df['gender'],churn_df['churn']).plot(kind='bar')\n",
    "plt.bar_label(bars.containers[0])\n",
    "plt.bar_label(bars.containers[1])\n",
    "plt.show()"
   ]
  },
  {
   "cell_type": "markdown",
   "id": "9c5cdd0f-4ec7-43c1-a1e8-a1012ad31f31",
   "metadata": {},
   "source": [
    "- 'age' vs 'churn'"
   ]
  },
  {
   "cell_type": "code",
   "execution_count": 80,
   "id": "fe32e621-07e7-416b-8927-8b206c719e22",
   "metadata": {},
   "outputs": [
    {
     "data": {
      "image/png": "[encoded data removed]",
      "text/plain": [
       "<Figure size 640x480 with 1 Axes>"
      ]
     },
     "metadata": {},
     "output_type": "display_data"
    }
   ],
   "source": [
    "sns.histplot(x=churn_df['age'],hue=churn_df['churn'],kde=True)\n",
    "plt.show()"
   ]
  },
  {
   "cell_type": "markdown",
   "id": "afb1ad85-d98b-4491-993e-c8d142f13475",
   "metadata": {},
   "source": [
    "- 'customer_support_calls' vs 'churn' vs 'gender'"
   ]
  },
  {
   "cell_type": "code",
   "execution_count": 81,
   "id": "15f8174d-11fc-485d-84eb-123419b2aa0f",
   "metadata": {},
   "outputs": [
    {
     "data": {
      "text/html": [
       "<div>\n",
       "<style scoped>\n",
       "    .dataframe tbody tr th:only-of-type {\n",
       "        vertical-align: middle;\n",
       "    }\n",
       "\n",
       "    .dataframe tbody tr th {\n",
       "        vertical-align: top;\n",
       "    }\n",
       "\n",
       "    .dataframe thead th {\n",
       "        text-align: right;\n",
       "    }\n",
       "</style>\n",
       "<table border=\"1\" class=\"dataframe\">\n",
       "  <thead>\n",
       "    <tr style=\"text-align: right;\">\n",
       "      <th></th>\n",
       "      <th>customer_support_calls</th>\n",
       "      <th>0</th>\n",
       "      <th>1</th>\n",
       "      <th>2</th>\n",
       "      <th>3</th>\n",
       "      <th>4</th>\n",
       "      <th>5</th>\n",
       "      <th>6</th>\n",
       "      <th>7</th>\n",
       "      <th>8</th>\n",
       "      <th>9</th>\n",
       "    </tr>\n",
       "    <tr>\n",
       "      <th>gender</th>\n",
       "      <th>churn</th>\n",
       "      <th></th>\n",
       "      <th></th>\n",
       "      <th></th>\n",
       "      <th></th>\n",
       "      <th></th>\n",
       "      <th></th>\n",
       "      <th></th>\n",
       "      <th></th>\n",
       "      <th></th>\n",
       "      <th></th>\n",
       "    </tr>\n",
       "  </thead>\n",
       "  <tbody>\n",
       "    <tr>\n",
       "      <th rowspan=\"2\" valign=\"top\">0</th>\n",
       "      <th>0</th>\n",
       "      <td>167</td>\n",
       "      <td>309</td>\n",
       "      <td>184</td>\n",
       "      <td>101</td>\n",
       "      <td>26</td>\n",
       "      <td>5</td>\n",
       "      <td>3</td>\n",
       "      <td>1</td>\n",
       "      <td>1</td>\n",
       "      <td>0</td>\n",
       "    </tr>\n",
       "    <tr>\n",
       "      <th>1</th>\n",
       "      <td>24</td>\n",
       "      <td>35</td>\n",
       "      <td>21</td>\n",
       "      <td>9</td>\n",
       "      <td>21</td>\n",
       "      <td>11</td>\n",
       "      <td>3</td>\n",
       "      <td>1</td>\n",
       "      <td>1</td>\n",
       "      <td>0</td>\n",
       "    </tr>\n",
       "    <tr>\n",
       "      <th rowspan=\"2\" valign=\"top\">1</th>\n",
       "      <th>0</th>\n",
       "      <td>207</td>\n",
       "      <td>350</td>\n",
       "      <td>202</td>\n",
       "      <td>136</td>\n",
       "      <td>34</td>\n",
       "      <td>8</td>\n",
       "      <td>1</td>\n",
       "      <td>3</td>\n",
       "      <td>0</td>\n",
       "      <td>0</td>\n",
       "    </tr>\n",
       "    <tr>\n",
       "      <th>1</th>\n",
       "      <td>22</td>\n",
       "      <td>39</td>\n",
       "      <td>25</td>\n",
       "      <td>8</td>\n",
       "      <td>22</td>\n",
       "      <td>14</td>\n",
       "      <td>4</td>\n",
       "      <td>1</td>\n",
       "      <td>0</td>\n",
       "      <td>1</td>\n",
       "    </tr>\n",
       "  </tbody>\n",
       "</table>\n",
       "</div>"
      ],
      "text/plain": [
       "customer_support_calls    0    1    2    3   4   5  6  7  8  9\n",
       "gender churn                                                  \n",
       "0      0                167  309  184  101  26   5  3  1  1  0\n",
       "       1                 24   35   21    9  21  11  3  1  1  0\n",
       "1      0                207  350  202  136  34   8  1  3  0  0\n",
       "       1                 22   39   25    8  22  14  4  1  0  1"
      ]
     },
     "execution_count": 81,
     "metadata": {},
     "output_type": "execute_result"
    }
   ],
   "source": [
    "pd.crosstab(index=[churn_df['gender'], churn_df['churn']], columns=churn_df['customer_support_calls'])"
   ]
  },
  {
   "cell_type": "code",
   "execution_count": 82,
   "id": "5b0d4c4c-09b0-4f3d-8b43-32c538c36e2e",
   "metadata": {},
   "outputs": [
    {
     "data": {
      "text/plain": [
       "<Figure size 1000x800 with 0 Axes>"
      ]
     },
     "metadata": {},
     "output_type": "display_data"
    },
    {
     "data": {
      "image/png": "[encoded data removed]",
      "text/plain": [
       "<Figure size 640x480 with 1 Axes>"
      ]
     },
     "metadata": {},
     "output_type": "display_data"
    }
   ],
   "source": [
    "plt.figure(figsize=(10,8))\n",
    "pd.crosstab(index=[churn_df['gender'], churn_df['churn']], columns=churn_df['customer_support_calls']).plot(kind='bar',stacked=False,width=0.8)\n",
    "plt.show()"
   ]
  },
  {
   "cell_type": "code",
   "execution_count": 83,
   "id": "4eb36911-ced3-47ac-9181-4d8c59cdb56f",
   "metadata": {},
   "outputs": [
    {
     "data": {
      "image/png": "[encoded data removed]",
      "text/plain": [
       "<Figure size 800x600 with 1 Axes>"
      ]
     },
     "metadata": {},
     "output_type": "display_data"
    }
   ],
   "source": [
    "count_data = churn_df.groupby(['gender', 'churn'])['customer_support_calls'].count().reset_index()\n",
    "\n",
    "# Create a grouped bar plot\n",
    "plt.figure(figsize=(8, 6))\n",
    "bars = sns.barplot(x=count_data['gender'], y=count_data['customer_support_calls'], hue=count_data['churn'])\n",
    "plt.bar_label(bars.containers[0])\n",
    "plt.bar_label(bars.containers[1])\n",
    "plt.show()"
   ]
  },
  {
   "cell_type": "markdown",
   "id": "7774460c-7e84-4706-b945-908c1a3b9d10",
   "metadata": {},
   "source": [
    "- 'no_of_days_subscribed' vs 'churn' vs 'gender'"
   ]
  },
  {
   "cell_type": "code",
   "execution_count": 84,
   "id": "1550a88f-75fd-4365-9f9e-ada86adbb507",
   "metadata": {},
   "outputs": [
    {
     "data": {
      "image/png": "[encoded data removed]",
      "text/plain": [
       "<Figure size 800x600 with 1 Axes>"
      ]
     },
     "metadata": {},
     "output_type": "display_data"
    }
   ],
   "source": [
    "count_data = churn_df.groupby(['gender', 'churn'])['no_of_days_subscribed'].count().reset_index()\n",
    "\n",
    "# Create a grouped bar plot\n",
    "plt.figure(figsize=(8, 6))\n",
    "bars = sns.barplot(x=count_data['gender'], y=count_data['no_of_days_subscribed'], hue=count_data['churn'])\n",
    "plt.bar_label(bars.containers[0])\n",
    "plt.bar_label(bars.containers[1])\n",
    "plt.show()"
   ]
  },
  {
   "cell_type": "markdown",
   "id": "da812620-2020-43b8-82da-e091474913e7",
   "metadata": {},
   "source": [
    "- 'weekly_max_night_mins' vs 'churn'"
   ]
  },
  {
   "cell_type": "code",
   "execution_count": 85,
   "id": "2206cdba-950e-4f5f-8e06-5bd4bd086047",
   "metadata": {},
   "outputs": [
    {
     "data": {
      "image/png": "[encoded data removed]",
      "text/plain": [
       "<Figure size 640x480 with 1 Axes>"
      ]
     },
     "metadata": {},
     "output_type": "display_data"
    }
   ],
   "source": [
    "sns.histplot(x=churn_df['weekly_max_night_mins'],hue=churn_df['churn'],kde=True)\n",
    "plt.show()"
   ]
  },
  {
   "cell_type": "markdown",
   "id": "0c2593ae-8376-43c0-906b-843b00c85cad",
   "metadata": {},
   "source": [
    "- Lets consider numerical (float) columns & plot its histogram"
   ]
  },
  {
   "cell_type": "code",
   "execution_count": 86,
   "id": "f1410c2b-947f-4a1c-8360-b02fbb38825a",
   "metadata": {},
   "outputs": [
    {
     "data": {
      "text/html": [
       "<div>\n",
       "<style scoped>\n",
       "    .dataframe tbody tr th:only-of-type {\n",
       "        vertical-align: middle;\n",
       "    }\n",
       "\n",
       "    .dataframe tbody tr th {\n",
       "        vertical-align: top;\n",
       "    }\n",
       "\n",
       "    .dataframe thead th {\n",
       "        text-align: right;\n",
       "    }\n",
       "</style>\n",
       "<table border=\"1\" class=\"dataframe\">\n",
       "  <thead>\n",
       "    <tr style=\"text-align: right;\">\n",
       "      <th></th>\n",
       "      <th>gender</th>\n",
       "      <th>age</th>\n",
       "      <th>no_of_days_subscribed</th>\n",
       "      <th>multi_screen</th>\n",
       "      <th>mail_subscribed</th>\n",
       "      <th>weekly_mins_watched</th>\n",
       "      <th>minimum_daily_mins</th>\n",
       "      <th>weekly_max_night_mins</th>\n",
       "      <th>videos_watched</th>\n",
       "      <th>customer_support_calls</th>\n",
       "      <th>churn</th>\n",
       "    </tr>\n",
       "  </thead>\n",
       "  <tbody>\n",
       "    <tr>\n",
       "      <th>0</th>\n",
       "      <td>0</td>\n",
       "      <td>36</td>\n",
       "      <td>62</td>\n",
       "      <td>0</td>\n",
       "      <td>0</td>\n",
       "      <td>148.350</td>\n",
       "      <td>12.200</td>\n",
       "      <td>82</td>\n",
       "      <td>1</td>\n",
       "      <td>1</td>\n",
       "      <td>0</td>\n",
       "    </tr>\n",
       "    <tr>\n",
       "      <th>1</th>\n",
       "      <td>0</td>\n",
       "      <td>39</td>\n",
       "      <td>149</td>\n",
       "      <td>0</td>\n",
       "      <td>0</td>\n",
       "      <td>294.450</td>\n",
       "      <td>7.700</td>\n",
       "      <td>87</td>\n",
       "      <td>3</td>\n",
       "      <td>2</td>\n",
       "      <td>0</td>\n",
       "    </tr>\n",
       "    <tr>\n",
       "      <th>2</th>\n",
       "      <td>0</td>\n",
       "      <td>65</td>\n",
       "      <td>126</td>\n",
       "      <td>0</td>\n",
       "      <td>0</td>\n",
       "      <td>87.300</td>\n",
       "      <td>11.900</td>\n",
       "      <td>91</td>\n",
       "      <td>1</td>\n",
       "      <td>5</td>\n",
       "      <td>1</td>\n",
       "    </tr>\n",
       "    <tr>\n",
       "      <th>3</th>\n",
       "      <td>0</td>\n",
       "      <td>24</td>\n",
       "      <td>131</td>\n",
       "      <td>0</td>\n",
       "      <td>1</td>\n",
       "      <td>321.300</td>\n",
       "      <td>9.500</td>\n",
       "      <td>102</td>\n",
       "      <td>4</td>\n",
       "      <td>3</td>\n",
       "      <td>0</td>\n",
       "    </tr>\n",
       "    <tr>\n",
       "      <th>4</th>\n",
       "      <td>0</td>\n",
       "      <td>40</td>\n",
       "      <td>191</td>\n",
       "      <td>0</td>\n",
       "      <td>0</td>\n",
       "      <td>243.000</td>\n",
       "      <td>10.900</td>\n",
       "      <td>83</td>\n",
       "      <td>7</td>\n",
       "      <td>1</td>\n",
       "      <td>0</td>\n",
       "    </tr>\n",
       "  </tbody>\n",
       "</table>\n",
       "</div>"
      ],
      "text/plain": [
       "   gender  age  no_of_days_subscribed  multi_screen  mail_subscribed  \\\n",
       "0       0   36                     62             0                0   \n",
       "1       0   39                    149             0                0   \n",
       "2       0   65                    126             0                0   \n",
       "3       0   24                    131             0                1   \n",
       "4       0   40                    191             0                0   \n",
       "\n",
       "   weekly_mins_watched  minimum_daily_mins  weekly_max_night_mins  \\\n",
       "0              148.350              12.200                     82   \n",
       "1              294.450               7.700                     87   \n",
       "2               87.300              11.900                     91   \n",
       "3              321.300               9.500                    102   \n",
       "4              243.000              10.900                     83   \n",
       "\n",
       "   videos_watched  customer_support_calls  churn  \n",
       "0               1                       1      0  \n",
       "1               3                       2      0  \n",
       "2               1                       5      1  \n",
       "3               4                       3      0  \n",
       "4               7                       1      0  "
      ]
     },
     "execution_count": 86,
     "metadata": {},
     "output_type": "execute_result"
    }
   ],
   "source": [
    "churn_df.head()"
   ]
  },
  {
   "cell_type": "code",
   "execution_count": 87,
   "id": "72fcb059-6a69-4990-b517-45e759d781d1",
   "metadata": {},
   "outputs": [
    {
     "data": {
      "image/png": "[encoded data removed]",
      "text/plain": [
       "<Figure size 1400x1600 with 7 Axes>"
      ]
     },
     "metadata": {},
     "output_type": "display_data"
    }
   ],
   "source": [
    "i=0\n",
    "plt.figure(figsize=(14,16))\n",
    "for col in ['weekly_mins_watched','minimum_daily_mins','weekly_max_night_mins', 'age', 'no_of_days_subscribed', 'videos_watched', 'customer_support_calls']:\n",
    "    plt.subplot(3,3,i+1)\n",
    "    sns.histplot(churn_df[col],kde=True)\n",
    "    plt.title(f'Skewness: {np.round(churn_df[col].skew(),2)}')\n",
    "    i = i+1\n",
    "plt.show()"
   ]
  },
  {
   "cell_type": "markdown",
   "id": "4d243c60-737a-4390-badc-8931823338b4",
   "metadata": {},
   "source": [
    "**Models that are insensitive to magnitude differences means they do not require feature scaling.**\n",
    "\n",
    "- All tree based models (they split data based on feature threshold):\n",
    "    - Random Forest\n",
    "    - Decision Trees\n",
    "    - Gradient Boosting Machines (e.g., XGBoost, LightGBM)\n",
    "    - Ensemble Techniques (Bagging or Bossting which utilizes Tree based learning)\n",
    "- Naive Bayes (it uses probability)\n",
    "\n",
    "**Models that are sensitive to magnitude differences means they require feature scaling.**\n",
    "\n",
    "- Which rely on gradients\n",
    "    - Linear Regression\n",
    "    - Logistic Regression\n",
    "    - Neural Networks\n",
    "- Which rely on distance\n",
    "    - SVM\n",
    "    - KNN"
   ]
  },
  {
   "cell_type": "markdown",
   "id": "68022a1e-c0d4-4740-b8be-cb7542066166",
   "metadata": {},
   "source": [
    "**Models that are insensitive to skewness (or feature distribution) means they do not require Data Transformation.**\n",
    "\n",
    "- All tree based models (splits are based on feature threshold not statistical assumptions):\n",
    "    - Random Forest\n",
    "    - Decision Trees\n",
    "    - Gradient Boosting Machines (e.g., XGBoost, LightGBM)\n",
    "    - Ensemble Techniques (Bagging or Bossting which utilizes Tree based learning)\n",
    "- Naive Bayes (it uses probability)\n",
    "\n",
    "**Models that are sensitive to skewness (assume that data should follow nomral distribution) means they require Data Transformation.**\n",
    "\n",
    "- Linear Models\n",
    "    - Linear Regression\n",
    "    - Logistic Regression\n",
    "\n",
    "- Models using distance metrics\n",
    "    - SVM\n",
    "    - KNN\n",
    "    - K-means\n",
    "\n",
    "- Neural Networks\n",
    "- PCA"
   ]
  },
  {
   "cell_type": "markdown",
   "id": "aacfedc1-ea7b-4fb2-b3a8-1736a6425f1d",
   "metadata": {},
   "source": [
    "**We will save 2 types of cleaned data**\n",
    "\n",
    "- First Lets Save this cleaned data (without transformation & Scaling)"
   ]
  },
  {
   "cell_type": "code",
   "execution_count": 88,
   "id": "3aedab54-dbcd-4d29-8bdd-d8e65b36e8b7",
   "metadata": {},
   "outputs": [],
   "source": [
    "churn_df_cleaned_1 = churn_df.copy()"
   ]
  },
  {
   "cell_type": "code",
   "execution_count": 89,
   "id": "eb3c0d80-fbb0-4a44-9b56-5e1f3151020a",
   "metadata": {},
   "outputs": [],
   "source": [
    "churn_df_cleaned_1.to_csv('churn_cleaned1.csv',header=True,index=False)"
   ]
  },
  {
   "cell_type": "markdown",
   "id": "63ae15d3-ef24-4d74-8fd9-2e2271b45866",
   "metadata": {},
   "source": [
    "- Lets Transform 'age', 'videos_watched', 'customer_support_calls' columns as its skewness value is comparatively high"
   ]
  },
  {
   "cell_type": "code",
   "execution_count": 90,
   "id": "a5a4395a-d58f-49e6-88cf-c1f5d44f4d31",
   "metadata": {},
   "outputs": [
    {
     "data": {
      "text/plain": [
       "['power_transformer_age.joblib']"
      ]
     },
     "execution_count": 90,
     "metadata": {},
     "output_type": "execute_result"
    }
   ],
   "source": [
    "from sklearn.preprocessing import PowerTransformer\n",
    "import joblib\n",
    "\n",
    "pt = PowerTransformer(method='box-cox')\n",
    "churn_df['age'] = pt.fit_transform(churn_df['age'].values.reshape(-1,1))\n",
    "\n",
    "joblib.dump(pt, 'power_transformer_age.joblib')"
   ]
  },
  {
   "cell_type": "code",
   "execution_count": 91,
   "id": "d55b7e79-0bc3-4060-ad3e-d024ac4c5fa5",
   "metadata": {},
   "outputs": [
    {
     "data": {
      "text/plain": [
       "['power_transformer.joblib']"
      ]
     },
     "execution_count": 91,
     "metadata": {},
     "output_type": "execute_result"
    }
   ],
   "source": [
    "from sklearn.preprocessing import PowerTransformer\n",
    "import joblib\n",
    "\n",
    "pt1 = PowerTransformer()\n",
    "churn_df['videos_watched'] = pt1.fit_transform(churn_df['videos_watched'].values.reshape(-1,1))\n",
    "churn_df['customer_support_calls'] = pt1.fit_transform(churn_df['customer_support_calls'].values.reshape(-1,1))\n",
    "\n",
    "joblib.dump(pt1, 'power_transformer.joblib')"
   ]
  },
  {
   "cell_type": "code",
   "execution_count": 92,
   "id": "e379dbad-8281-4bd5-8a6d-93a30da0dd64",
   "metadata": {},
   "outputs": [
    {
     "data": {
      "image/png": "[encoded data removed]",
      "text/plain": [
       "<Figure size 1000x400 with 3 Axes>"
      ]
     },
     "metadata": {},
     "output_type": "display_data"
    }
   ],
   "source": [
    "i=0\n",
    "plt.figure(figsize=(10,4))\n",
    "for col in ['age', 'videos_watched', 'customer_support_calls']:\n",
    "    plt.subplot(1,3,i+1)\n",
    "    sns.histplot(churn_df[col],kde=True)\n",
    "    plt.title(f'Skewness: {np.round(churn_df[col].skew(),4)}')\n",
    "    i = i+1\n",
    "plt.show()"
   ]
  },
  {
   "cell_type": "code",
   "execution_count": 93,
   "id": "dbcb7ffc-813d-47d0-845a-72d79658a4ec",
   "metadata": {},
   "outputs": [
    {
     "data": {
      "text/plain": [
       "['standard_scaler.joblib']"
      ]
     },
     "execution_count": 93,
     "metadata": {},
     "output_type": "execute_result"
    }
   ],
   "source": [
    "from sklearn.preprocessing import StandardScaler\n",
    "\n",
    "ss = StandardScaler()\n",
    "\n",
    "for col in ['weekly_mins_watched','minimum_daily_mins','weekly_max_night_mins', 'age', 'no_of_days_subscribed', 'videos_watched', 'customer_support_calls']:\n",
    "    churn_df[col] = ss.fit_transform(churn_df[col].values.reshape(-1,1))\n",
    "\n",
    "joblib.dump(ss,'standard_scaler.joblib')"
   ]
  },
  {
   "cell_type": "code",
   "execution_count": 94,
   "id": "763f58db-f13e-40b0-967c-919bf94629cb",
   "metadata": {},
   "outputs": [
    {
     "data": {
      "text/html": [
       "<div>\n",
       "<style scoped>\n",
       "    .dataframe tbody tr th:only-of-type {\n",
       "        vertical-align: middle;\n",
       "    }\n",
       "\n",
       "    .dataframe tbody tr th {\n",
       "        vertical-align: top;\n",
       "    }\n",
       "\n",
       "    .dataframe thead th {\n",
       "        text-align: right;\n",
       "    }\n",
       "</style>\n",
       "<table border=\"1\" class=\"dataframe\">\n",
       "  <thead>\n",
       "    <tr style=\"text-align: right;\">\n",
       "      <th></th>\n",
       "      <th>gender</th>\n",
       "      <th>age</th>\n",
       "      <th>no_of_days_subscribed</th>\n",
       "      <th>multi_screen</th>\n",
       "      <th>mail_subscribed</th>\n",
       "      <th>weekly_mins_watched</th>\n",
       "      <th>minimum_daily_mins</th>\n",
       "      <th>weekly_max_night_mins</th>\n",
       "      <th>videos_watched</th>\n",
       "      <th>customer_support_calls</th>\n",
       "      <th>churn</th>\n",
       "    </tr>\n",
       "  </thead>\n",
       "  <tbody>\n",
       "    <tr>\n",
       "      <th>0</th>\n",
       "      <td>0</td>\n",
       "      <td>-0.128</td>\n",
       "      <td>-0.950</td>\n",
       "      <td>0</td>\n",
       "      <td>0</td>\n",
       "      <td>-1.513</td>\n",
       "      <td>0.719</td>\n",
       "      <td>-0.943</td>\n",
       "      <td>-1.977</td>\n",
       "      <td>-0.239</td>\n",
       "      <td>0</td>\n",
       "    </tr>\n",
       "    <tr>\n",
       "      <th>1</th>\n",
       "      <td>0</td>\n",
       "      <td>0.188</td>\n",
       "      <td>1.239</td>\n",
       "      <td>0</td>\n",
       "      <td>0</td>\n",
       "      <td>0.301</td>\n",
       "      <td>-0.897</td>\n",
       "      <td>-0.687</td>\n",
       "      <td>-0.513</td>\n",
       "      <td>0.551</td>\n",
       "      <td>0</td>\n",
       "    </tr>\n",
       "    <tr>\n",
       "      <th>2</th>\n",
       "      <td>0</td>\n",
       "      <td>2.079</td>\n",
       "      <td>0.660</td>\n",
       "      <td>0</td>\n",
       "      <td>0</td>\n",
       "      <td>-2.271</td>\n",
       "      <td>0.611</td>\n",
       "      <td>-0.482</td>\n",
       "      <td>-1.977</td>\n",
       "      <td>1.975</td>\n",
       "      <td>1</td>\n",
       "    </tr>\n",
       "    <tr>\n",
       "      <th>3</th>\n",
       "      <td>0</td>\n",
       "      <td>-1.817</td>\n",
       "      <td>0.786</td>\n",
       "      <td>0</td>\n",
       "      <td>1</td>\n",
       "      <td>0.635</td>\n",
       "      <td>-0.251</td>\n",
       "      <td>0.081</td>\n",
       "      <td>-0.016</td>\n",
       "      <td>1.130</td>\n",
       "      <td>0</td>\n",
       "    </tr>\n",
       "    <tr>\n",
       "      <th>4</th>\n",
       "      <td>0</td>\n",
       "      <td>0.286</td>\n",
       "      <td>2.296</td>\n",
       "      <td>0</td>\n",
       "      <td>0</td>\n",
       "      <td>-0.337</td>\n",
       "      <td>0.252</td>\n",
       "      <td>-0.892</td>\n",
       "      <td>1.075</td>\n",
       "      <td>-0.239</td>\n",
       "      <td>0</td>\n",
       "    </tr>\n",
       "  </tbody>\n",
       "</table>\n",
       "</div>"
      ],
      "text/plain": [
       "   gender    age  no_of_days_subscribed  multi_screen  mail_subscribed  \\\n",
       "0       0 -0.128                 -0.950             0                0   \n",
       "1       0  0.188                  1.239             0                0   \n",
       "2       0  2.079                  0.660             0                0   \n",
       "3       0 -1.817                  0.786             0                1   \n",
       "4       0  0.286                  2.296             0                0   \n",
       "\n",
       "   weekly_mins_watched  minimum_daily_mins  weekly_max_night_mins  \\\n",
       "0               -1.513               0.719                 -0.943   \n",
       "1                0.301              -0.897                 -0.687   \n",
       "2               -2.271               0.611                 -0.482   \n",
       "3                0.635              -0.251                  0.081   \n",
       "4               -0.337               0.252                 -0.892   \n",
       "\n",
       "   videos_watched  customer_support_calls  churn  \n",
       "0          -1.977                  -0.239      0  \n",
       "1          -0.513                   0.551      0  \n",
       "2          -1.977                   1.975      1  \n",
       "3          -0.016                   1.130      0  \n",
       "4           1.075                  -0.239      0  "
      ]
     },
     "execution_count": 94,
     "metadata": {},
     "output_type": "execute_result"
    }
   ],
   "source": [
    "churn_df.head()"
   ]
  },
  {
   "cell_type": "code",
   "execution_count": 95,
   "id": "0b9abeab-21da-4e6f-9cfe-dc20549dfb74",
   "metadata": {},
   "outputs": [],
   "source": [
    "cleaned_data2 = churn_df.copy()"
   ]
  },
  {
   "cell_type": "markdown",
   "id": "09b87ab9-96e9-4af8-85c7-57acf4dbc369",
   "metadata": {},
   "source": [
    "- Now lets save this cleaned data (with transformation & Scaling)"
   ]
  },
  {
   "cell_type": "code",
   "execution_count": 96,
   "id": "659d36b4-cfae-4bd0-aaff-f589efa15dfd",
   "metadata": {},
   "outputs": [],
   "source": [
    "cleaned_data2.to_csv('churn_cleaned2.csv',header=True,index=False)"
   ]
  },
  {
   "cell_type": "markdown",
   "id": "794a8af5-36dd-4c91-bfa9-a32a871a8aed",
   "metadata": {},
   "source": [
    "- PCA is good for Logistic Regression, Linear Regression or SVM, especially when the input features are highly correlated.\n",
    "- It reduces multicollinearity, dimensionality, computational cost and simplifies the model by transforming correlated features into uncorrelated principal components.\n",
    "- It prevents overfitting\n",
    "- Good for KNN, K-means clustering models as well (making distance computations more efficient)\n",
    "- Also, PCA requires data to be scaled\n",
    "\n",
    "- Not good for Tree-based models (Decision Trees, Random Forest, XGboost, LightGB because these models handle features importance & they are not affected by multicollineaity"
   ]
  },
  {
   "cell_type": "code",
   "execution_count": 97,
   "id": "d8ba7293-b4ec-44e5-85c3-52f87edabfa7",
   "metadata": {},
   "outputs": [],
   "source": [
    "from sklearn.decomposition import PCA\n",
    "\n",
    "# Exclude non-numeric columns (e.g., 'gender') for PCA\n",
    "numeric_data = churn_df.select_dtypes(include=['float64', 'int64'])\n",
    "\n",
    "# Step 2: Apply PCA to retain 95% of variance\n",
    "pca = PCA(n_components=0.95)\n",
    "data_pca = pca.fit_transform(numeric_data)\n"
   ]
  },
  {
   "cell_type": "code",
   "execution_count": 98,
   "id": "02439750-6f2e-4f76-93ce-07dcb82fe9db",
   "metadata": {},
   "outputs": [
    {
     "data": {
      "text/plain": [
       "Index(['gender', 'age', 'no_of_days_subscribed', 'multi_screen',\n",
       "       'mail_subscribed', 'weekly_mins_watched', 'minimum_daily_mins',\n",
       "       'weekly_max_night_mins', 'videos_watched', 'customer_support_calls'],\n",
       "      dtype='object')"
      ]
     },
     "execution_count": 98,
     "metadata": {},
     "output_type": "execute_result"
    }
   ],
   "source": [
    "numeric_data.columns"
   ]
  },
  {
   "cell_type": "code",
   "execution_count": 99,
   "id": "7578ea15-ba57-45f5-9bd3-5644cfc263f8",
   "metadata": {},
   "outputs": [
    {
     "data": {
      "text/plain": [
       "array([[-1.57797252, -1.25047432, -0.26179665, ...,  0.50141109,\n",
       "         1.21968372, -0.40344653],\n",
       "       [-0.48838712,  0.07413124,  1.26677862, ..., -0.06846902,\n",
       "         0.18870426, -0.43542005],\n",
       "       [-0.68864764, -1.50149722,  3.14444082, ..., -0.07176427,\n",
       "         1.38569704, -0.39665458],\n",
       "       ...,\n",
       "       [ 3.27371655, -1.04428347, -0.82618799, ..., -0.02874663,\n",
       "        -1.62616867,  0.45422127],\n",
       "       [ 0.28145449, -1.17311251,  0.74496915, ..., -0.53565554,\n",
       "        -0.6051119 ,  0.49669721],\n",
       "       [ 0.29687922,  0.11207349, -0.89206038, ..., -0.9491859 ,\n",
       "        -0.0918132 ,  0.51141514]])"
      ]
     },
     "execution_count": 99,
     "metadata": {},
     "output_type": "execute_result"
    }
   ],
   "source": [
    "data_pca"
   ]
  },
  {
   "cell_type": "code",
   "execution_count": 100,
   "id": "bc4af0fe-18b1-4499-9796-61249450165c",
   "metadata": {},
   "outputs": [
    {
     "data": {
      "text/plain": [
       "(2000, 8)"
      ]
     },
     "execution_count": 100,
     "metadata": {},
     "output_type": "execute_result"
    }
   ],
   "source": [
    "data_pca.shape"
   ]
  },
  {
   "cell_type": "code",
   "execution_count": 101,
   "id": "7c9b8884-b648-49af-a25b-056c293b6956",
   "metadata": {},
   "outputs": [
    {
     "data": {
      "text/plain": [
       "8"
      ]
     },
     "execution_count": 101,
     "metadata": {},
     "output_type": "execute_result"
    }
   ],
   "source": [
    "data_pca.shape[1]"
   ]
  },
  {
   "cell_type": "code",
   "execution_count": 102,
   "id": "e257d62a-77fe-4438-9026-00ca6d8b40d1",
   "metadata": {},
   "outputs": [
    {
     "data": {
      "text/plain": [
       "(     PC1    PC2    PC3    PC4    PC5    PC6    PC7    PC8\n",
       " 0 -1.578 -1.250 -0.262 -0.506  1.589  0.501  1.220 -0.403\n",
       " 1 -0.488  0.074  1.267 -0.775 -1.035 -0.068  0.189 -0.435\n",
       " 2 -0.689 -1.501  3.144 -0.051  1.966 -0.072  1.386 -0.397\n",
       " 3 -0.380 -0.481  0.056  0.901 -2.018  0.561  0.212 -0.708\n",
       " 4  1.522 -0.802  1.012 -1.505 -0.964  0.449 -0.409 -0.465,\n",
       " {'Original Features': 10,\n",
       "  'Principal Components Retained': 8,\n",
       "  'Explained Variance Ratio': [0.14536620622961824,\n",
       "   0.14010268672286488,\n",
       "   0.1349022270791304,\n",
       "   0.13290724116873165,\n",
       "   0.1285230174289386,\n",
       "   0.12642906142276833,\n",
       "   0.12027010315921333,\n",
       "   0.03316398927855797]})"
      ]
     },
     "execution_count": 102,
     "metadata": {},
     "output_type": "execute_result"
    }
   ],
   "source": [
    "# Step 3: Extract PCA results into a DataFrame\n",
    "data_pca_df = pd.DataFrame(data_pca, columns=[f'PC{i+1}' for i in range(data_pca.shape[1])])\n",
    "\n",
    "# # Results summary\n",
    "pca_summary = {\n",
    "    \"Original Features\": numeric_data.shape[1],\n",
    "    \"Principal Components Retained\": data_pca.shape[1],\n",
    "    \"Explained Variance Ratio\": pca.explained_variance_ratio_.tolist(),\n",
    "}\n",
    "\n",
    "data_pca_df.head(), pca_summary\n"
   ]
  },
  {
   "cell_type": "code",
   "execution_count": null,
   "id": "3ffc7e57-6c9e-4ba8-af43-0804e39ad8c8",
   "metadata": {},
   "outputs": [],
   "source": []
  }
 ],
 "metadata": {
  "kernelspec": {
   "display_name": "Python 3 (ipykernel)",
   "language": "python",
   "name": "python3"
  },
  "language_info": {
   "codemirror_mode": {
    "name": "ipython",
    "version": 3
   },
   "file_extension": ".py",
   "mimetype": "text/x-python",
   "name": "python",
   "nbconvert_exporter": "python",
   "pygments_lexer": "ipython3",
   "version": "3.11.7"
  }
 },
 "nbformat": 4,
 "nbformat_minor": 5
}
